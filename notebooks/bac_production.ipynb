{
 "cells": [
  {
   "cell_type": "markdown",
   "metadata": {},
   "source": [
    "\"Aquatic prokaryotes, comprising the Bacteria and the Archaea, play a central role in the carbon cycle by consuming approximately half of the organic matter produced during aquatic primary production (Williams 1981; Cole et al. 1988). This consumed matter is incorporated into their biomass, a process which is termed prokaryotic heterotrophic production (PHP), or respired to carbon dioxide (CO2) (Ducklow 2000). Hence, the term PHP describes the growth of prokaryotic communities... \n",
    "\n",
    "As first described by Pomeroy (1974), the microbial loop is the prokaryotic consumption of dissolved organic matter, which is typically unavailable to most other marine organisms. Thereby this matter is re-incorporated into the cellular pool and, via bacterivory, made available to higher trophic levels. Within the concept of the microbial loop, PHP describes the magnitude of the flux of matter channeled from the dissolved to the particulate pool.\" (Glering & Evans 2022)\n",
    "\n",
    "According to Kirchman (1993), bacterial production can be estimated from leucine incorporation/uptake rate, based on the assumption of constant mass ratios. Given that proteins are made of amino acids, and that some amino acids make up a relatively constant proportion of the cell's protein, they can be used to estimate PHP. One amino acid that occurs in relatively constant proportions in mixed assemblages of coastal, pelagic prokaryotes is leucine.\n",
    "\n",
    "For more, see https://aslopubs.onlinelibrary.wiley.com/doi/full/10.1002/lno.12032 \n",
    "\n",
    "\n",
    "SPOT data estimates production in cell/mL/day based on leucine uptake and thymidine uptake (standard deviation included)."
   ]
  }
 ],
 "metadata": {
  "language_info": {
   "name": "python"
  }
 },
 "nbformat": 4,
 "nbformat_minor": 2
}
