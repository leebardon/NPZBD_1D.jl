{
 "cells": [
  {
   "cell_type": "markdown",
   "metadata": {},
   "source": [
    "<h1> Resource Competition Theory </h1>"
   ]
  },
  {
   "cell_type": "markdown",
   "metadata": {},
   "source": [
    "The underlying theory of R* is derived from mathematical models of ecosystem dynamics, e.g. Lotka-Volterra competition models, which are used to predict outcomes of species competing for limited resources. However, in the 1970's and 90's, David Tilman and others pointed out that such models were \"phenomenological\" rather than \"mechanistic.\" That is, the competition coefficients - estimated from experiments in which two species are grown together - were measures of the effect of one species on the growth rate of another, and not independently derived values that enable the prediction of coexistence or competitive exclusion. Further, a competition coefficient is not useful in determining the mechanism of competition. If competition is really concerned with a resource in short supply, we need to understand what the resource is and how each species is using it before we can understand competitive interactions. \n",
    "\n",
    "This lead to the development of 'resource competition theory', which couples the availability of resources to population growth. It builds on Liebig's Law of the Minimum, which asserts that population growth is constrained by the depetion of critical resources. For example, if plant growth is constrained by phosphorus and a farmer adds phosphorus fertilizer, growth will then continue until another resource, such as nitrogen, becomes limiting. Resurces competition theory also ties in density-dpendent population growth and mortality to arrive at R* - the level of resource needed such that growth is balanced with mortality (dN/dt = 0).\n",
    "\n",
    "<h3> R* Background </h3>\n",
    "\n",
    "The underlying theory behind R* includes the following:\n",
    "\n",
    "* <b> Resource Competition</b>: Species compete for essential resources like nutrients (e.g., N and P) and light. These resources are often scarce and can limit the growth of microbial populations.\n",
    "\n",
    "* <b> Utilization Efficiency </b>: Different species have varying levels of efficiency in utilizing these resources. Some may have a higher affinity or better adaptation to acquire and use specific resources compared to others. This variability is a key driver of competitive interactions.\n",
    "\n",
    "* <b> The R* Concept </b>: R* represents the critical resource concentration at which a particular microbial species can maintain a stable population size, meaning that its growth rate equals its loss rate. At R*, the net population growth rate is zero. If resource concentration is below R* for a given species, that species may have a competitive advantage over other species that are less efficient at utilizing the resource.\n",
    "\n",
    "* <b> Coexistence and Community Structure </b>: R* helps explain patterns of species coexistence and community structure. Species with different R* values for various nutrients can coexist by partitioning available resources based on their respective competitive abilities.\n",
    "\n",
    "<!-- * <b> Resource Competition Models: Resource competition models, such as the Droop model or the Monod equation, are commonly used to describe the relationship between resource concentration and the growth rate of microbial populations. These models typically involve parameters like the maximum growth rate (μ), half-saturation constant (Ks), and nutrient concentration (S).\n",
    "\n",
    "Deriving R*: To find the R* for a particular microbial species, you can use the resource competition models and experimentally determine the species-specific values for μ and Ks. The R* can then be calculated using the formula:\n",
    "\n",
    "R* = (μ * S) / (μ + mortality rate)\n",
    "\n",
    "Where:\n",
    "\n",
    "μ is the maximum growth rate of the species.\n",
    "S is the resource concentration (e.g., nutrient concentration).\n",
    "Mortality rate accounts for factors like predation, viral lysis, and other sources of mortality.\n",
    "Resource Competition Dynamics: When resource concentrations in the marine environment are above the R* of a species, that species will grow, outcompete others, and potentially dominate the community. However, as resource concentrations decrease below the R*, the growth rate of that species decreases, making it less competitive compared to species with lower R* values. -->\n",
    "\n",
    "\n",
    "<h3> Examining Coexistence </h3>\n",
    "\n",
    "Assume that resource limitation leads to a decrease in reproduction while mortality remains constant. As the concentration of the limiting resource decreases, so too does growth rate. In this case, the relationship between growth rate and resource concentration can be described using the Monod equation:\n",
    "\n",
    "$ \\mu(R) = \\mu_{max} \\frac{R}{R + k_R} $\n",
    "\n",
    "where $\\mu_{max}$ is the intrinsic rate of of increase (maximum population growth rate), $k_R$ is a the “half saturation constant”, and R is the concentration of resource available. Since loss rate (mortality) $L$ is independent of resource concentration, this gives us an equation for growth rate of, e.g. heterotrophic bacteria population $B$ expressed exclusively in terms of the resource concentration: \n",
    "\n",
    "$$ \\frac{dB}{dt} = \\mu B - LB  = \\mu_{max} \\frac{R}{R+k_R} - LB $$"
   ]
  },
  {
   "cell_type": "markdown",
   "metadata": {},
   "source": [
    "When two species compete for a shared limited resource, the conditions favor the species that can continue to sequester and utilize resources effectively.\n",
    "\n",
    "$ \\frac{dB}{dt} = \\mu B - LB $\n",
    "\n",
    "For a system where we incorporate linear loss rates ($m_l$ cell maintenance, senesence, etc), quadratic loss rates ($m_q$ mortality from e.g. viral lysis) and grazing by zooplankton $Z$ we can write:\n",
    "\n",
    "$ \\frac{dB}{dt} = \\mu B - m_l B - m_q B^2 - g*B*Z $ and,\n",
    "\n",
    "$ L = m_l + m_q B + gZ $\n",
    "\n",
    "where g, the zooplankton grazing rate, is a function of B that follows a similar form to that of the growth rate of B:\n",
    "\n",
    "$ g(B) = g_{max} \\frac{B}{B + k_g} $"
   ]
  },
  {
   "cell_type": "markdown",
   "metadata": {},
   "source": [
    "<h2> Interpreting R* </h2>\n",
    "\n",
    "\n",
    "* <b> Resource Limitation </b>: If $R=R*$ for a given species, it implies that the species can just barely sustain its population. Any further reduction in resource availability below this level (i.e. if $R > R*$) may lead to a decline in population size.\n",
    "\n",
    "* <b> Competitive Advantage </b>: If $R <<R*$ for a given species, it suggests a competitive advantage for that species. In other words, the species is better adapted to exploit the available resources compared to other species in the ecosystem. \n",
    "\n",
    "* <b> Resource Partitioning </b>: Multiple microbial species with different R* values for various nutrients can coexist within the same ecosystem because they may have competitive advantages for different resources, allowing for niche partitioning. Thus, R* values help explain species coexistence and community structure.\n",
    "\n",
    "* <b> Shifts in Community Composition </b>: Changes in resource availability over time can lead to shifts in the dominant microbial species within the ecosystem. When resource concentrations change, the species with the most appropriate R* values for those resources may become more abundant, altering the composition of the microbial community.\n",
    "\n",
    "* <b> Environmental Stress and Perturbations </b>: High R* values relative to actual resource concentrations may indicate resource limitation and stress for certain species. Perturbations that further reduce resource availability can lead to population declines or shifts in community structure, potentially impacting ecosystem function.\n"
   ]
  },
  {
   "cell_type": "markdown",
   "metadata": {},
   "source": [
    "<h2> Deriving R* </h2>"
   ]
  },
  {
   "cell_type": "markdown",
   "metadata": {},
   "source": [
    "The R* values denotes the resource concentration at which the growth rate $\\mu$ and loss rate $L$ of B are at equilibrium, i.e. that $\\mu = L$. Thus, to derive R*, we must derive terms for growth and loss within the model, as they pertain to resource concentration. \n",
    "\n",
    "The <b> Monod equation </b> describes the relationship between growth rate and resource concentration, independent of loss rate:\n",
    "\n",
    "$$ \\mu = \\mu_{max} \\frac{R}{R + k} $$\n",
    "\n",
    "where $k$ is the half-saturation constant (the point at which $\\mu$ is at half of $\\mu_{max}$), $R$ is the concentration of resource available, and $\\mu_{max}$ is the maximum population growth rate.\n",
    "\n",
    "Thus, we can derive an equation for $R*$ by setting $\\mu = L$ and solving for $R$:\n",
    "\n",
    "$$ \\mu_{max} \\frac{R}{R + k} = L $$\n",
    "\n",
    "multiplying both sides by $(R + k)$:\n",
    "\n",
    "$$ \\mu_{max}R = L(R + k) $$\n",
    "\n",
    "expanding brackets:\n",
    "\n",
    "$$ \\mu_{max}R = LR + Lk $$\n",
    "\n",
    "minus $LR$ from both sides:\n",
    "\n",
    "$$ \\mu_{max}R - LR = Lk $$\n",
    "\n",
    "factorising:\n",
    "\n",
    "$$ R(\\mu_{max} - L) = Lk $$\n",
    "\n",
    "dividing both sides by $(\\mu_{max} - L)$ to get $R*$:\n",
    "\n",
    "$$ R* = \\frac{Lk}{(\\mu_{max} - L)} $$\n",
    "\n",
    "\n",
    "<h3> Model Specific R* </h3>\n",
    "\n",
    "Within the model, metabolic rate is temperature dependent ($M_T$), which factors into $\\mu_{max}$. Likewise, all resource uptake is not incorporated as growth, so a yield rate $y$ must also be considered, giving the equation:\n",
    "\n",
    "$$ R* = \\frac{Lk}{(\\mu_{max} * y * M_T) - L} $$\n",
    "\n",
    "The model implements the loss rate of $B$ is a function of parameters for linear loss rate ($m_l$ cell maintenance, senesence, etc) and quadratic loss rate ($m_q$ mortality from e.g. viral lysis), as well as losses that occur due to grazing by zooplankton.\n",
    "\n",
    "$$ L = m_l + m_q B + gZ $$\n",
    "\n",
    "where $g$, the zooplankton grazing rate, is a function of $B$ that follows a similar form to that of the growth rate of $B$:\n",
    "\n",
    "$$ g = g_{max} \\frac{B}{B + k_g} $$"
   ]
  },
  {
   "cell_type": "markdown",
   "metadata": {},
   "source": [
    "# simplified version here doesn't take into account transport, which can affect actual R*"
   ]
  },
  {
   "cell_type": "markdown",
   "metadata": {},
   "source": []
  }
 ],
 "metadata": {
  "language_info": {
   "name": "python"
  },
  "orig_nbformat": 4
 },
 "nbformat": 4,
 "nbformat_minor": 2
}
