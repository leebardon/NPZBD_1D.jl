{
 "cells": [
  {
   "attachments": {},
   "cell_type": "markdown",
   "metadata": {},
   "source": [
    "First successful Runs\n",
    "\n",
    "\n",
    "8Z, 20P, 80B - 10 years\n",
    "\n",
    "Bacteria yield - 0.3 for all\n",
    "\n",
    "umax and vmax from 0.1 - 10\n",
    "\n",
    "nIC = ones(Float64, ngrid, nn) * 20.0\n",
    "pIC = ones(Float64, ngrid, np) * 0.1 \n",
    "zIC = ones(Float64, ngrid, nz) * 0.01\n",
    "dIC = ones(Float64, ngrid, nd) * (0.01 / nd)\n",
    "bIC = ones(Float64, ngrid, nb) * (0.1 / nb)\n",
    "oIC = ones(Float64, ngrid, 1)  * 100.0\n"
   ]
  },
  {
   "attachments": {},
   "cell_type": "markdown",
   "metadata": {},
   "source": [
    "NOTE: using a log-normal method of distributing detritus from mortality back to the pools, leads most bacteria species to go extinct (i.e. some pools get 0.001 of the total, and one pool will get 0.78, etc )\n",
    "\n",
    "\n",
    "NOTE: after 30 year runs, the B's are existing at extremely low concentrations, with only e.g. 5 out of 40 surviving - will test with increased yield from 0.3 to 0.5"
   ]
  }
 ],
 "metadata": {
  "kernelspec": {
   "display_name": "Julia 1.8.5",
   "language": "julia",
   "name": "julia-1.8"
  },
  "language_info": {
   "file_extension": ".jl",
   "mimetype": "application/julia",
   "name": "julia",
   "version": "1.8.5"
  },
  "orig_nbformat": 4
 },
 "nbformat": 4,
 "nbformat_minor": 2
}
