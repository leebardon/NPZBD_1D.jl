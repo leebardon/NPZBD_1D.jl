{
 "cells": [
  {
   "cell_type": "code",
   "execution_count": 81,
   "metadata": {},
   "outputs": [
    {
     "data": {
      "text/plain": [
       "load_spot_data (generic function with 1 method)"
      ]
     },
     "metadata": {},
     "output_type": "display_data"
    }
   ],
   "source": [
    "using CSV, DataFrames\n",
    "    \n",
    "function load_spot_data()\n",
    "\n",
    "    path = joinpath.(\"/home/lee/Dropbox/Development/NPZBD_1D/data/spot_diversity\")\n",
    "    diversity = DataFrame(CSV.File(\"$(path)/spot_shannon_means.csv\"))\n",
    "\n",
    "    return diversity\n",
    "\n",
    "end"
   ]
  },
  {
   "cell_type": "code",
   "execution_count": 8,
   "metadata": {},
   "outputs": [
    {
     "data": {
      "text/html": [
       "<div><div style = \"float: left;\"><span>20×11 DataFrame</span></div><div style = \"clear: both;\"></div></div><div class = \"data-frame\" style = \"overflow-x: scroll;\"><table class = \"data-frame\" style = \"margin-bottom: 6px;\"><thead><tr class = \"header\"><th class = \"rowNumber\" style = \"font-weight: bold; text-align: right;\">Row</th><th style = \"text-align: left;\">Column1</th><th style = \"text-align: left;\">Euk</th><th style = \"text-align: left;\">FL Prok</th><th style = \"text-align: left;\">PA Prok</th><th style = \"text-align: left;\">Phyto</th><th style = \"text-align: left;\">euk_sem</th><th style = \"text-align: left;\">fl_sem</th><th style = \"text-align: left;\">pa_sem</th><th style = \"text-align: left;\">phy_sem</th><th style = \"text-align: left;\">Depth</th><th style = \"text-align: left;\">season</th></tr><tr class = \"subheader headerLastRow\"><th class = \"rowNumber\" style = \"font-weight: bold; text-align: right;\"></th><th title = \"Int64\" style = \"text-align: left;\">Int64</th><th title = \"Float64\" style = \"text-align: left;\">Float64</th><th title = \"Float64\" style = \"text-align: left;\">Float64</th><th title = \"Float64\" style = \"text-align: left;\">Float64</th><th title = \"Union{Missing, Float64}\" style = \"text-align: left;\">Float64?</th><th title = \"Float64\" style = \"text-align: left;\">Float64</th><th title = \"Float64\" style = \"text-align: left;\">Float64</th><th title = \"Float64\" style = \"text-align: left;\">Float64</th><th title = \"Union{Missing, Float64}\" style = \"text-align: left;\">Float64?</th><th title = \"Int64\" style = \"text-align: left;\">Int64</th><th title = \"String7\" style = \"text-align: left;\">String7</th></tr></thead><tbody><tr><td class = \"rowNumber\" style = \"font-weight: bold; text-align: right;\">1</td><td style = \"text-align: right;\">0</td><td style = \"text-align: right;\">6.34151</td><td style = \"text-align: right;\">5.24959</td><td style = \"text-align: right;\">5.71671</td><td style = \"text-align: right;\">5.28705</td><td style = \"text-align: right;\">0.171343</td><td style = \"text-align: right;\">0.066437</td><td style = \"text-align: right;\">0.0753031</td><td style = \"text-align: right;\">0.0751599</td><td style = \"text-align: right;\">5</td><td style = \"text-align: left;\">winter</td></tr><tr><td class = \"rowNumber\" style = \"font-weight: bold; text-align: right;\">2</td><td style = \"text-align: right;\">1</td><td style = \"text-align: right;\">6.14199</td><td style = \"text-align: right;\">4.72933</td><td style = \"text-align: right;\">5.43249</td><td style = \"text-align: right;\">5.17703</td><td style = \"text-align: right;\">0.160145</td><td style = \"text-align: right;\">0.0653431</td><td style = \"text-align: right;\">0.0696587</td><td style = \"text-align: right;\">0.0984648</td><td style = \"text-align: right;\">5</td><td style = \"text-align: left;\">spring</td></tr><tr><td class = \"rowNumber\" style = \"font-weight: bold; text-align: right;\">3</td><td style = \"text-align: right;\">2</td><td style = \"text-align: right;\">6.25244</td><td style = \"text-align: right;\">4.84256</td><td style = \"text-align: right;\">5.5557</td><td style = \"text-align: right;\">5.31165</td><td style = \"text-align: right;\">0.1719</td><td style = \"text-align: right;\">0.0516519</td><td style = \"text-align: right;\">0.0621</td><td style = \"text-align: right;\">0.107366</td><td style = \"text-align: right;\">5</td><td style = \"text-align: left;\">summer</td></tr><tr><td class = \"rowNumber\" style = \"font-weight: bold; text-align: right;\">4</td><td style = \"text-align: right;\">3</td><td style = \"text-align: right;\">6.51527</td><td style = \"text-align: right;\">4.97652</td><td style = \"text-align: right;\">5.64395</td><td style = \"text-align: right;\">5.19877</td><td style = \"text-align: right;\">0.172856</td><td style = \"text-align: right;\">0.0769255</td><td style = \"text-align: right;\">0.0777341</td><td style = \"text-align: right;\">0.102404</td><td style = \"text-align: right;\">5</td><td style = \"text-align: left;\">fall</td></tr><tr><td class = \"rowNumber\" style = \"font-weight: bold; text-align: right;\">5</td><td style = \"text-align: right;\">0</td><td style = \"text-align: right;\">6.44277</td><td style = \"text-align: right;\">5.33856</td><td style = \"text-align: right;\">6.01939</td><td style = \"text-align: right;\">5.04662</td><td style = \"text-align: right;\">0.184723</td><td style = \"text-align: right;\">0.0807763</td><td style = \"text-align: right;\">0.105721</td><td style = \"text-align: right;\">0.0780913</td><td style = \"text-align: right;\">50</td><td style = \"text-align: left;\">winter</td></tr><tr><td class = \"rowNumber\" style = \"font-weight: bold; text-align: right;\">6</td><td style = \"text-align: right;\">1</td><td style = \"text-align: right;\">6.15484</td><td style = \"text-align: right;\">4.91618</td><td style = \"text-align: right;\">5.75379</td><td style = \"text-align: right;\">4.9368</td><td style = \"text-align: right;\">0.118092</td><td style = \"text-align: right;\">0.0826135</td><td style = \"text-align: right;\">0.0862214</td><td style = \"text-align: right;\">0.130298</td><td style = \"text-align: right;\">50</td><td style = \"text-align: left;\">spring</td></tr><tr><td class = \"rowNumber\" style = \"font-weight: bold; text-align: right;\">7</td><td style = \"text-align: right;\">2</td><td style = \"text-align: right;\">6.14639</td><td style = \"text-align: right;\">5.0534</td><td style = \"text-align: right;\">5.95009</td><td style = \"text-align: right;\">5.05666</td><td style = \"text-align: right;\">0.201193</td><td style = \"text-align: right;\">0.0733822</td><td style = \"text-align: right;\">0.0792524</td><td style = \"text-align: right;\">0.130479</td><td style = \"text-align: right;\">50</td><td style = \"text-align: left;\">summer</td></tr><tr><td class = \"rowNumber\" style = \"font-weight: bold; text-align: right;\">8</td><td style = \"text-align: right;\">3</td><td style = \"text-align: right;\">6.49895</td><td style = \"text-align: right;\">5.19316</td><td style = \"text-align: right;\">6.07168</td><td style = \"text-align: right;\">4.9289</td><td style = \"text-align: right;\">0.252378</td><td style = \"text-align: right;\">0.0931027</td><td style = \"text-align: right;\">0.139149</td><td style = \"text-align: right;\">0.147612</td><td style = \"text-align: right;\">50</td><td style = \"text-align: left;\">fall</td></tr><tr><td class = \"rowNumber\" style = \"font-weight: bold; text-align: right;\">9</td><td style = \"text-align: right;\">0</td><td style = \"text-align: right;\">5.76587</td><td style = \"text-align: right;\">5.61454</td><td style = \"text-align: right;\">6.54325</td><td style = \"font-style: italic; text-align: right;\">missing</td><td style = \"text-align: right;\">0.235544</td><td style = \"text-align: right;\">0.0876565</td><td style = \"text-align: right;\">0.182546</td><td style = \"font-style: italic; text-align: right;\">missing</td><td style = \"text-align: right;\">150</td><td style = \"text-align: left;\">0</td></tr><tr><td class = \"rowNumber\" style = \"font-weight: bold; text-align: right;\">10</td><td style = \"text-align: right;\">1</td><td style = \"text-align: right;\">5.50335</td><td style = \"text-align: right;\">5.40183</td><td style = \"text-align: right;\">6.60465</td><td style = \"font-style: italic; text-align: right;\">missing</td><td style = \"text-align: right;\">0.212966</td><td style = \"text-align: right;\">0.0941278</td><td style = \"text-align: right;\">0.131613</td><td style = \"font-style: italic; text-align: right;\">missing</td><td style = \"text-align: right;\">150</td><td style = \"text-align: left;\">1</td></tr><tr><td class = \"rowNumber\" style = \"font-weight: bold; text-align: right;\">11</td><td style = \"text-align: right;\">2</td><td style = \"text-align: right;\">5.81111</td><td style = \"text-align: right;\">5.3777</td><td style = \"text-align: right;\">6.6286</td><td style = \"font-style: italic; text-align: right;\">missing</td><td style = \"text-align: right;\">0.231509</td><td style = \"text-align: right;\">0.092808</td><td style = \"text-align: right;\">0.129376</td><td style = \"font-style: italic; text-align: right;\">missing</td><td style = \"text-align: right;\">150</td><td style = \"text-align: left;\">2</td></tr><tr><td class = \"rowNumber\" style = \"font-weight: bold; text-align: right;\">12</td><td style = \"text-align: right;\">3</td><td style = \"text-align: right;\">5.97898</td><td style = \"text-align: right;\">5.56957</td><td style = \"text-align: right;\">6.58121</td><td style = \"font-style: italic; text-align: right;\">missing</td><td style = \"text-align: right;\">0.25085</td><td style = \"text-align: right;\">0.107761</td><td style = \"text-align: right;\">0.136329</td><td style = \"font-style: italic; text-align: right;\">missing</td><td style = \"text-align: right;\">150</td><td style = \"text-align: left;\">3</td></tr><tr><td class = \"rowNumber\" style = \"font-weight: bold; text-align: right;\">13</td><td style = \"text-align: right;\">0</td><td style = \"text-align: right;\">5.04533</td><td style = \"text-align: right;\">5.2836</td><td style = \"text-align: right;\">6.27941</td><td style = \"font-style: italic; text-align: right;\">missing</td><td style = \"text-align: right;\">0.14183</td><td style = \"text-align: right;\">0.0649925</td><td style = \"text-align: right;\">0.216838</td><td style = \"font-style: italic; text-align: right;\">missing</td><td style = \"text-align: right;\">500</td><td style = \"text-align: left;\">winter</td></tr><tr><td class = \"rowNumber\" style = \"font-weight: bold; text-align: right;\">14</td><td style = \"text-align: right;\">1</td><td style = \"text-align: right;\">5.56282</td><td style = \"text-align: right;\">5.3485</td><td style = \"text-align: right;\">6.84657</td><td style = \"font-style: italic; text-align: right;\">missing</td><td style = \"text-align: right;\">0.247226</td><td style = \"text-align: right;\">0.0617648</td><td style = \"text-align: right;\">0.180743</td><td style = \"font-style: italic; text-align: right;\">missing</td><td style = \"text-align: right;\">500</td><td style = \"text-align: left;\">spring</td></tr><tr><td class = \"rowNumber\" style = \"font-weight: bold; text-align: right;\">15</td><td style = \"text-align: right;\">2</td><td style = \"text-align: right;\">5.24929</td><td style = \"text-align: right;\">5.39252</td><td style = \"text-align: right;\">6.80404</td><td style = \"font-style: italic; text-align: right;\">missing</td><td style = \"text-align: right;\">0.300596</td><td style = \"text-align: right;\">0.0841766</td><td style = \"text-align: right;\">0.169938</td><td style = \"font-style: italic; text-align: right;\">missing</td><td style = \"text-align: right;\">500</td><td style = \"text-align: left;\">summer</td></tr><tr><td class = \"rowNumber\" style = \"font-weight: bold; text-align: right;\">16</td><td style = \"text-align: right;\">3</td><td style = \"text-align: right;\">5.52577</td><td style = \"text-align: right;\">5.20744</td><td style = \"text-align: right;\">6.6059</td><td style = \"font-style: italic; text-align: right;\">missing</td><td style = \"text-align: right;\">0.20809</td><td style = \"text-align: right;\">0.0973443</td><td style = \"text-align: right;\">0.184029</td><td style = \"font-style: italic; text-align: right;\">missing</td><td style = \"text-align: right;\">500</td><td style = \"text-align: left;\">fall</td></tr><tr><td class = \"rowNumber\" style = \"font-weight: bold; text-align: right;\">17</td><td style = \"text-align: right;\">0</td><td style = \"text-align: right;\">4.66671</td><td style = \"text-align: right;\">4.78435</td><td style = \"text-align: right;\">5.88392</td><td style = \"font-style: italic; text-align: right;\">missing</td><td style = \"text-align: right;\">0.262756</td><td style = \"text-align: right;\">0.0606622</td><td style = \"text-align: right;\">0.116665</td><td style = \"font-style: italic; text-align: right;\">missing</td><td style = \"text-align: right;\">890</td><td style = \"text-align: left;\">winter</td></tr><tr><td class = \"rowNumber\" style = \"font-weight: bold; text-align: right;\">18</td><td style = \"text-align: right;\">1</td><td style = \"text-align: right;\">5.20528</td><td style = \"text-align: right;\">4.93009</td><td style = \"text-align: right;\">6.15461</td><td style = \"font-style: italic; text-align: right;\">missing</td><td style = \"text-align: right;\">0.263281</td><td style = \"text-align: right;\">0.0739833</td><td style = \"text-align: right;\">0.228316</td><td style = \"font-style: italic; text-align: right;\">missing</td><td style = \"text-align: right;\">890</td><td style = \"text-align: left;\">spring</td></tr><tr><td class = \"rowNumber\" style = \"font-weight: bold; text-align: right;\">19</td><td style = \"text-align: right;\">2</td><td style = \"text-align: right;\">5.11485</td><td style = \"text-align: right;\">4.53703</td><td style = \"text-align: right;\">6.03606</td><td style = \"font-style: italic; text-align: right;\">missing</td><td style = \"text-align: right;\">0.248759</td><td style = \"text-align: right;\">0.0662521</td><td style = \"text-align: right;\">0.11662</td><td style = \"font-style: italic; text-align: right;\">missing</td><td style = \"text-align: right;\">890</td><td style = \"text-align: left;\">summer</td></tr><tr><td class = \"rowNumber\" style = \"font-weight: bold; text-align: right;\">20</td><td style = \"text-align: right;\">3</td><td style = \"text-align: right;\">4.95627</td><td style = \"text-align: right;\">4.67175</td><td style = \"text-align: right;\">6.11866</td><td style = \"font-style: italic; text-align: right;\">missing</td><td style = \"text-align: right;\">0.28636</td><td style = \"text-align: right;\">0.131083</td><td style = \"text-align: right;\">0.162363</td><td style = \"font-style: italic; text-align: right;\">missing</td><td style = \"text-align: right;\">890</td><td style = \"text-align: left;\">fall</td></tr></tbody></table></div>"
      ],
      "text/latex": [
       "\\begin{tabular}{r|cccccccccc}\n",
       "\t& Column1 & Euk & FL Prok & PA Prok & Phyto & euk\\_sem & fl\\_sem & pa\\_sem & phy\\_sem & \\\\\n",
       "\t\\hline\n",
       "\t& Int64 & Float64 & Float64 & Float64 & Float64? & Float64 & Float64 & Float64 & Float64? & \\\\\n",
       "\t\\hline\n",
       "\t1 & 0 & 6.34151 & 5.24959 & 5.71671 & 5.28705 & 0.171343 & 0.066437 & 0.0753031 & 0.0751599 & $\\dots$ \\\\\n",
       "\t2 & 1 & 6.14199 & 4.72933 & 5.43249 & 5.17703 & 0.160145 & 0.0653431 & 0.0696587 & 0.0984648 & $\\dots$ \\\\\n",
       "\t3 & 2 & 6.25244 & 4.84256 & 5.5557 & 5.31165 & 0.1719 & 0.0516519 & 0.0621 & 0.107366 & $\\dots$ \\\\\n",
       "\t4 & 3 & 6.51527 & 4.97652 & 5.64395 & 5.19877 & 0.172856 & 0.0769255 & 0.0777341 & 0.102404 & $\\dots$ \\\\\n",
       "\t5 & 0 & 6.44277 & 5.33856 & 6.01939 & 5.04662 & 0.184723 & 0.0807763 & 0.105721 & 0.0780913 & $\\dots$ \\\\\n",
       "\t6 & 1 & 6.15484 & 4.91618 & 5.75379 & 4.9368 & 0.118092 & 0.0826135 & 0.0862214 & 0.130298 & $\\dots$ \\\\\n",
       "\t7 & 2 & 6.14639 & 5.0534 & 5.95009 & 5.05666 & 0.201193 & 0.0733822 & 0.0792524 & 0.130479 & $\\dots$ \\\\\n",
       "\t8 & 3 & 6.49895 & 5.19316 & 6.07168 & 4.9289 & 0.252378 & 0.0931027 & 0.139149 & 0.147612 & $\\dots$ \\\\\n",
       "\t9 & 0 & 5.76587 & 5.61454 & 6.54325 & \\emph{missing} & 0.235544 & 0.0876565 & 0.182546 & \\emph{missing} & $\\dots$ \\\\\n",
       "\t10 & 1 & 5.50335 & 5.40183 & 6.60465 & \\emph{missing} & 0.212966 & 0.0941278 & 0.131613 & \\emph{missing} & $\\dots$ \\\\\n",
       "\t11 & 2 & 5.81111 & 5.3777 & 6.6286 & \\emph{missing} & 0.231509 & 0.092808 & 0.129376 & \\emph{missing} & $\\dots$ \\\\\n",
       "\t12 & 3 & 5.97898 & 5.56957 & 6.58121 & \\emph{missing} & 0.25085 & 0.107761 & 0.136329 & \\emph{missing} & $\\dots$ \\\\\n",
       "\t13 & 0 & 5.04533 & 5.2836 & 6.27941 & \\emph{missing} & 0.14183 & 0.0649925 & 0.216838 & \\emph{missing} & $\\dots$ \\\\\n",
       "\t14 & 1 & 5.56282 & 5.3485 & 6.84657 & \\emph{missing} & 0.247226 & 0.0617648 & 0.180743 & \\emph{missing} & $\\dots$ \\\\\n",
       "\t15 & 2 & 5.24929 & 5.39252 & 6.80404 & \\emph{missing} & 0.300596 & 0.0841766 & 0.169938 & \\emph{missing} & $\\dots$ \\\\\n",
       "\t16 & 3 & 5.52577 & 5.20744 & 6.6059 & \\emph{missing} & 0.20809 & 0.0973443 & 0.184029 & \\emph{missing} & $\\dots$ \\\\\n",
       "\t17 & 0 & 4.66671 & 4.78435 & 5.88392 & \\emph{missing} & 0.262756 & 0.0606622 & 0.116665 & \\emph{missing} & $\\dots$ \\\\\n",
       "\t18 & 1 & 5.20528 & 4.93009 & 6.15461 & \\emph{missing} & 0.263281 & 0.0739833 & 0.228316 & \\emph{missing} & $\\dots$ \\\\\n",
       "\t19 & 2 & 5.11485 & 4.53703 & 6.03606 & \\emph{missing} & 0.248759 & 0.0662521 & 0.11662 & \\emph{missing} & $\\dots$ \\\\\n",
       "\t20 & 3 & 4.95627 & 4.67175 & 6.11866 & \\emph{missing} & 0.28636 & 0.131083 & 0.162363 & \\emph{missing} & $\\dots$ \\\\\n",
       "\\end{tabular}\n"
      ],
      "text/plain": [
       "\u001b[1m20×11 DataFrame\u001b[0m\n",
       "\u001b[1m Row \u001b[0m│\u001b[1m Column1 \u001b[0m\u001b[1m Euk     \u001b[0m\u001b[1m FL Prok \u001b[0m\u001b[1m PA Prok \u001b[0m\u001b[1m Phyto         \u001b[0m\u001b[1m euk_sem  \u001b[0m\u001b[1m fl_sem    \u001b[0m\u001b[1m\u001b[0m ⋯\n",
       "     │\u001b[90m Int64   \u001b[0m\u001b[90m Float64 \u001b[0m\u001b[90m Float64 \u001b[0m\u001b[90m Float64 \u001b[0m\u001b[90m Float64?      \u001b[0m\u001b[90m Float64  \u001b[0m\u001b[90m Float64   \u001b[0m\u001b[90m\u001b[0m ⋯\n",
       "─────┼──────────────────────────────────────────────────────────────────────────\n",
       "   1 │       0  6.34151  5.24959  5.71671        5.28705  0.171343  0.066437   ⋯\n",
       "   2 │       1  6.14199  4.72933  5.43249        5.17703  0.160145  0.0653431\n",
       "   3 │       2  6.25244  4.84256  5.5557         5.31165  0.1719    0.0516519\n",
       "   4 │       3  6.51527  4.97652  5.64395        5.19877  0.172856  0.0769255\n",
       "   5 │       0  6.44277  5.33856  6.01939        5.04662  0.184723  0.0807763  ⋯\n",
       "   6 │       1  6.15484  4.91618  5.75379        4.9368   0.118092  0.0826135\n",
       "   7 │       2  6.14639  5.0534   5.95009        5.05666  0.201193  0.0733822\n",
       "   8 │       3  6.49895  5.19316  6.07168        4.9289   0.252378  0.0931027\n",
       "  ⋮  │    ⋮        ⋮        ⋮        ⋮           ⋮           ⋮          ⋮      ⋱\n",
       "  14 │       1  5.56282  5.3485   6.84657 \u001b[90m missing       \u001b[0m 0.247226  0.0617648  ⋯\n",
       "  15 │       2  5.24929  5.39252  6.80404 \u001b[90m missing       \u001b[0m 0.300596  0.0841766\n",
       "  16 │       3  5.52577  5.20744  6.6059  \u001b[90m missing       \u001b[0m 0.20809   0.0973443\n",
       "  17 │       0  4.66671  4.78435  5.88392 \u001b[90m missing       \u001b[0m 0.262756  0.0606622\n",
       "  18 │       1  5.20528  4.93009  6.15461 \u001b[90m missing       \u001b[0m 0.263281  0.0739833  ⋯\n",
       "  19 │       2  5.11485  4.53703  6.03606 \u001b[90m missing       \u001b[0m 0.248759  0.0662521\n",
       "  20 │       3  4.95627  4.67175  6.11866 \u001b[90m missing       \u001b[0m 0.28636   0.131083\n",
       "\u001b[36m                                                    4 columns and 5 rows omitted\u001b[0m"
      ]
     },
     "metadata": {},
     "output_type": "display_data"
    }
   ],
   "source": [
    "spot_diversity = load_spot_data()"
   ]
  },
  {
   "cell_type": "code",
   "execution_count": 105,
   "metadata": {},
   "outputs": [
    {
     "data": {
      "text/plain": [
       "\u001b[31mDataset: /home/lee/Dropbox/Development/NPZBD_1D/results/outfiles/out_10y_20230701_1917.nc\u001b[39m\n",
       "Group: /\n",
       "\n",
       "\u001b[31mDimensions\u001b[39m\n",
       "   np = 20\n",
       "   nb = 30\n",
       "   nz = 8\n",
       "   nn = 1\n",
       "   nd = 10\n",
       "   ndepth = 89\n",
       "   ndepth1 = 90\n",
       "   nrec = 73201\n",
       "   nprey = 50\n",
       "\n",
       "\u001b[31mVariables\u001b[39m\n",
       "\u001b[32m  p\u001b[39m   (89 × 20 × 73201)\n",
       "    Datatype:    \u001b[0m\u001b[1mFloat64\u001b[22m (Float64)\n",
       "    Dimensions:  ndepth × np × nrec\n",
       "    Attributes:\n",
       "     units                = \u001b[36mmmol/m3 C biomass\u001b[39m\n",
       "\n",
       "\u001b[32m  b\u001b[39m   (89 × 30 × 73201)\n",
       "    Datatype:    \u001b[0m\u001b[1mFloat64\u001b[22m (Float64)\n",
       "    Dimensions:  ndepth × nb × nrec\n",
       "    Attributes:\n",
       "     units                = \u001b[36mmmol/m3 C biomass\u001b[39m\n",
       "\n",
       "\u001b[32m  z\u001b[39m   (89 × 8 × 73201)\n",
       "    Datatype:    \u001b[0m\u001b[1mFloat64\u001b[22m (Float64)\n",
       "    Dimensions:  ndepth × nz × nrec\n",
       "    Attributes:\n",
       "     units                = \u001b[36mmmol/m3 C biomass\u001b[39m\n",
       "\n",
       "\u001b[32m  n\u001b[39m   (89 × 1 × 73201)\n",
       "    Datatype:    \u001b[0m\u001b[1mFloat64\u001b[22m (Float64)\n",
       "    Dimensions:  ndepth × nn × nrec\n",
       "    Attributes:\n",
       "     units                = \u001b[36mmmol/m3 C OM\u001b[39m\n",
       "\n",
       "\u001b[32m  d\u001b[39m   (89 × 10 × 73201)\n",
       "    Datatype:    \u001b[0m\u001b[1mFloat64\u001b[22m (Float64)\n",
       "    Dimensions:  ndepth × nd × nrec\n",
       "    Attributes:\n",
       "     units                = \u001b[36mmmol/m3 C OM\u001b[39m\n",
       "\n",
       "\u001b[32m  o\u001b[39m   (89 × 73201)\n",
       "    Datatype:    \u001b[0m\u001b[1mFloat64\u001b[22m (Float64)\n",
       "    Dimensions:  ndepth × nrec\n",
       "    Attributes:\n",
       "     units                = \u001b[36mmmol/m3 O2\u001b[39m\n",
       "\n",
       "\u001b[32m  pIC\u001b[39m   (89 × 20)\n",
       "    Datatype:    \u001b[0m\u001b[1mFloat64\u001b[22m (Float64)\n",
       "    Dimensions:  ndepth × np\n",
       "    Attributes:\n",
       "     units                = \u001b[36mmmol/m3 C biomass\u001b[39m\n",
       "\n",
       "\u001b[32m  bIC\u001b[39m   (89 × 30)\n",
       "    Datatype:    \u001b[0m\u001b[1mFloat64\u001b[22m (Float64)\n",
       "    Dimensions:  ndepth × nb\n",
       "    Attributes:\n",
       "     units                = \u001b[36mmmol/m3 C biomass\u001b[39m\n",
       "\n",
       "\u001b[32m  zIC\u001b[39m   (89 × 8)\n",
       "    Datatype:    \u001b[0m\u001b[1mFloat64\u001b[22m (Float64)\n",
       "    Dimensions:  ndepth × nz\n",
       "    Attributes:\n",
       "     units                = \u001b[36mmmol/m3 C biomass\u001b[39m\n",
       "\n",
       "\u001b[32m  nIC\u001b[39m   (89 × 1)\n",
       "    Datatype:    \u001b[0m\u001b[1mFloat64\u001b[22m (Float64)\n",
       "    Dimensions:  ndepth × nn\n",
       "    Attributes:\n",
       "     units                = \u001b[36mmmol/m3 C OM\u001b[39m\n",
       "\n",
       "\u001b[32m  dIC\u001b[39m   (89 × 10)\n",
       "    Datatype:    \u001b[0m\u001b[1mFloat64\u001b[22m (Float64)\n",
       "    Dimensions:  ndepth × nd\n",
       "    Attributes:\n",
       "     units                = \u001b[36mmmol/m3 C OM\u001b[39m\n",
       "\n",
       "\u001b[32m  timet\u001b[39m   (73201)\n",
       "    Datatype:    \u001b[0m\u001b[1mFloat64\u001b[22m (Float64)\n",
       "    Dimensions:  nrec\n",
       "    Attributes:\n",
       "     units                = \u001b[36mdays\u001b[39m\n",
       "\n",
       "\u001b[32m  H\u001b[39m  \n",
       "    Attributes:\n",
       "     units                = \u001b[36mm; total height\u001b[39m\n",
       "\n",
       "\u001b[32m  dz\u001b[39m  \n",
       "    Attributes:\n",
       "     units                = \u001b[36mm; box height\u001b[39m\n",
       "\n",
       "\u001b[32m  kappa_z\u001b[39m   (90)\n",
       "    Datatype:    \u001b[0m\u001b[1mFloat64\u001b[22m (Float64)\n",
       "    Dimensions:  ndepth1\n",
       "    Attributes:\n",
       "     units                = \u001b[36mvertical water velocity\u001b[39m\n",
       "\n",
       "\u001b[32m  wd\u001b[39m   (90 × 10)\n",
       "    Datatype:    \u001b[0m\u001b[1mFloat64\u001b[22m (Float64)\n",
       "    Dimensions:  ndepth1 × nd\n",
       "    Attributes:\n",
       "     units                = \u001b[36msinking rate\u001b[39m\n",
       "\n",
       "\u001b[32m  uptake\u001b[39m   (10 × 30)\n",
       "    Datatype:    \u001b[0m\u001b[1mFloat64\u001b[22m (Float64)\n",
       "    Dimensions:  nd × nb\n",
       "    Attributes:\n",
       "     units                = \u001b[36mmmol/m3 C per d; uptake matrix\u001b[39m\n",
       "\n",
       "\u001b[32m  SW\u001b[39m   (10)\n",
       "    Datatype:    \u001b[0m\u001b[1mFloat64\u001b[22m (Float64)\n",
       "    Dimensions:  nd\n",
       "    Attributes:\n",
       "     units                = \u001b[36mInd C supply weight: probability\u001b[39m\n",
       "\n",
       "\u001b[32m  pen\u001b[39m   (30)\n",
       "    Datatype:    \u001b[0m\u001b[1mFloat64\u001b[22m (Float64)\n",
       "    Dimensions:  nb\n",
       "    Attributes:\n",
       "     units                = \u001b[36mpenalty\u001b[39m\n",
       "\n",
       "\u001b[32m  umax_i\u001b[39m   (20)\n",
       "    Datatype:    \u001b[0m\u001b[1mFloat64\u001b[22m (Float64)\n",
       "    Dimensions:  np\n",
       "    Attributes:\n",
       "     units                = \u001b[36mm3/mmol/d; max growth rate of p\u001b[39m\n",
       "\n",
       "\u001b[32m  umax_ij\u001b[39m   (1 × 20)\n",
       "    Datatype:    \u001b[0m\u001b[1mFloat64\u001b[22m (Float64)\n",
       "    Dimensions:  nn × np\n",
       "    Attributes:\n",
       "     units                = \u001b[36mper n; max uptake rate\u001b[39m\n",
       "\n",
       "\u001b[32m  Kp_ij\u001b[39m   (1 × 20)\n",
       "    Datatype:    \u001b[0m\u001b[1mFloat64\u001b[22m (Float64)\n",
       "    Dimensions:  nn × np\n",
       "    Attributes:\n",
       "     units                = \u001b[36mmmol/m3; half-sat\u001b[39m\n",
       "\n",
       "\u001b[32m  CM\u001b[39m   (10 × 30)\n",
       "    Datatype:    \u001b[0m\u001b[1mFloat64\u001b[22m (Float64)\n",
       "    Dimensions:  nd × nb\n",
       "    Attributes:\n",
       "     units                = \u001b[36mConsumption Matrix (nb x nd)\u001b[39m\n",
       "\n",
       "\u001b[32m  CMp\u001b[39m   (1 × 20)\n",
       "    Datatype:    \u001b[0m\u001b[1mFloat64\u001b[22m (Float64)\n",
       "    Dimensions:  nn × np\n",
       "    Attributes:\n",
       "     units                = \u001b[36mConsumption Matrix (np x nn)\u001b[39m\n",
       "\n",
       "\u001b[32m  GrM\u001b[39m   (8 × 50)\n",
       "    Datatype:    \u001b[0m\u001b[1mFloat64\u001b[22m (Float64)\n",
       "    Dimensions:  nz × nprey\n",
       "    Attributes:\n",
       "     units                = \u001b[36mGrazing Matrix\u001b[39m\n",
       "\n",
       "\u001b[32m  y_ij\u001b[39m   (10 × 30)\n",
       "    Datatype:    \u001b[0m\u001b[1mFloat64\u001b[22m (Float64)\n",
       "    Dimensions:  nd × nb\n",
       "    Attributes:\n",
       "     units                = \u001b[36mper d; max yield rate\u001b[39m\n",
       "\n",
       "\u001b[32m  vmax_i\u001b[39m   (10)\n",
       "    Datatype:    \u001b[0m\u001b[1mFloat64\u001b[22m (Float64)\n",
       "    Dimensions:  nd\n",
       "    Attributes:\n",
       "     units                = \u001b[36mper d; max uptake rate\u001b[39m\n",
       "\n",
       "\u001b[32m  vmax_ij\u001b[39m   (10 × 30)\n",
       "    Datatype:    \u001b[0m\u001b[1mFloat64\u001b[22m (Float64)\n",
       "    Dimensions:  nd × nb\n",
       "    Attributes:\n",
       "     units                = \u001b[36mper d; max uptake rate\u001b[39m\n",
       "\n",
       "\u001b[32m  Km_ij\u001b[39m   (10 × 30)\n",
       "    Datatype:    \u001b[0m\u001b[1mFloat64\u001b[22m (Float64)\n",
       "    Dimensions:  nd × nb\n",
       "    Attributes:\n",
       "     units                = \u001b[36mmmol/m3; half-sat\u001b[39m\n",
       "\n",
       "\u001b[32m  m_lb\u001b[39m   (30)\n",
       "    Datatype:    \u001b[0m\u001b[1mFloat64\u001b[22m (Float64)\n",
       "    Dimensions:  nb\n",
       "    Attributes:\n",
       "     units                = \u001b[36mm3/mmol; linear death rate of b\u001b[39m\n",
       "\n",
       "\u001b[32m  m_qb\u001b[39m   (30)\n",
       "    Datatype:    \u001b[0m\u001b[1mFloat64\u001b[22m (Float64)\n",
       "    Dimensions:  nb\n",
       "    Attributes:\n",
       "     units                = \u001b[36mm3/mmol; quadratic death rate of b\u001b[39m\n",
       "\n",
       "\u001b[32m  K_g\u001b[39m   (8)\n",
       "    Datatype:    \u001b[0m\u001b[1mFloat64\u001b[22m (Float64)\n",
       "    Dimensions:  nz\n",
       "    Attributes:\n",
       "     units                = \u001b[36mm3/mmol; half-sat rate of z\u001b[39m\n",
       "\n",
       "\u001b[32m  γ\u001b[39m   (8)\n",
       "    Datatype:    \u001b[0m\u001b[1mFloat64\u001b[22m (Float64)\n",
       "    Dimensions:  nz\n",
       "    Attributes:\n",
       "     units                = \u001b[36mfraction of digestion of z\u001b[39m\n",
       "\n",
       "\u001b[32m  m_lz\u001b[39m   (8)\n",
       "    Datatype:    \u001b[0m\u001b[1mFloat64\u001b[22m (Float64)\n",
       "    Dimensions:  nz\n",
       "    Attributes:\n",
       "     units                = \u001b[36mm3/mmol; linear death rate of z\u001b[39m\n",
       "\n",
       "\u001b[32m  m_qz\u001b[39m   (8)\n",
       "    Datatype:    \u001b[0m\u001b[1mFloat64\u001b[22m (Float64)\n",
       "    Dimensions:  nz\n",
       "    Attributes:\n",
       "     units                = \u001b[36mm3/mmol; quadratic death rate of z\u001b[39m\n",
       "\n",
       "\u001b[31mGlobal attributes\u001b[39m\n",
       "  title                = \u001b[36mNPZBD 0D model i/o\u001b[39m\n",
       "  Start time           = \u001b[36m2023-07-01T19:19:10.425\u001b[39m\n",
       "  End time             = \u001b[36m2023-07-01T19:34:40.048\u001b[39m\n",
       "  Run time             = \u001b[36m929623 milliseconds\u001b[39m\n",
       "  Season               = \u001b[36mwinter\u001b[39m\n"
      ]
     },
     "metadata": {},
     "output_type": "display_data"
    }
   ],
   "source": [
    "using NCDatasets\n",
    "# /home/lee/Dropbox/Development/NPZBD_1D/results/outfiles/out_10y_20230701.nc\n",
    "win = NCDataset(\"/home/lee/Dropbox/Development/NPZBD_1D/results/outfiles/out_10y_20230701_1917.nc\")"
   ]
  },
  {
   "cell_type": "code",
   "execution_count": 98,
   "metadata": {},
   "outputs": [
    {
     "data": {
      "text/plain": [
       "\u001b[31mDataset: /home/lee/Dropbox/Development/NPZBD_1D/results/outfiles/out_30y_20230701_1718.nc\u001b[39m\n",
       "Group: /\n",
       "\n",
       "\u001b[31mDimensions\u001b[39m\n",
       "   np = 20\n",
       "   nb = 40\n",
       "   nz = 8\n",
       "   nn = 1\n",
       "   nd = 10\n",
       "   ndepth = 89\n",
       "   ndepth1 = 90\n",
       "   nrec = 219601\n",
       "   nprey = 60\n",
       "\n",
       "\u001b[31mVariables\u001b[39m\n",
       "\u001b[32m  p\u001b[39m   (89 × 20 × 219601)\n",
       "    Datatype:    \u001b[0m\u001b[1mFloat64\u001b[22m (Float64)\n",
       "    Dimensions:  ndepth × np × nrec\n",
       "    Attributes:\n",
       "     units                = \u001b[36mmmol/m3 C biomass\u001b[39m\n",
       "\n",
       "\u001b[32m  b\u001b[39m   (89 × 40 × 219601)\n",
       "    Datatype:    \u001b[0m\u001b[1mFloat64\u001b[22m (Float64)\n",
       "    Dimensions:  ndepth × nb × nrec\n",
       "    Attributes:\n",
       "     units                = \u001b[36mmmol/m3 C biomass\u001b[39m\n",
       "\n",
       "\u001b[32m  z\u001b[39m   (89 × 8 × 219601)\n",
       "    Datatype:    \u001b[0m\u001b[1mFloat64\u001b[22m (Float64)\n",
       "    Dimensions:  ndepth × nz × nrec\n",
       "    Attributes:\n",
       "     units                = \u001b[36mmmol/m3 C biomass\u001b[39m\n",
       "\n",
       "\u001b[32m  n\u001b[39m   (89 × 1 × 219601)\n",
       "    Datatype:    \u001b[0m\u001b[1mFloat64\u001b[22m (Float64)\n",
       "    Dimensions:  ndepth × nn × nrec\n",
       "    Attributes:\n",
       "     units                = \u001b[36mmmol/m3 C OM\u001b[39m\n",
       "\n",
       "\u001b[32m  d\u001b[39m   (89 × 10 × 219601)\n",
       "    Datatype:    \u001b[0m\u001b[1mFloat64\u001b[22m (Float64)\n",
       "    Dimensions:  ndepth × nd × nrec\n",
       "    Attributes:\n",
       "     units                = \u001b[36mmmol/m3 C OM\u001b[39m\n",
       "\n",
       "\u001b[32m  o\u001b[39m   (89 × 219601)\n",
       "    Datatype:    \u001b[0m\u001b[1mFloat64\u001b[22m (Float64)\n",
       "    Dimensions:  ndepth × nrec\n",
       "    Attributes:\n",
       "     units                = \u001b[36mmmol/m3 O2\u001b[39m\n",
       "\n",
       "\u001b[32m  pIC\u001b[39m   (89 × 20)\n",
       "    Datatype:    \u001b[0m\u001b[1mFloat64\u001b[22m (Float64)\n",
       "    Dimensions:  ndepth × np\n",
       "    Attributes:\n",
       "     units                = \u001b[36mmmol/m3 C biomass\u001b[39m\n",
       "\n",
       "\u001b[32m  bIC\u001b[39m   (89 × 40)\n",
       "    Datatype:    \u001b[0m\u001b[1mFloat64\u001b[22m (Float64)\n",
       "    Dimensions:  ndepth × nb\n",
       "    Attributes:\n",
       "     units                = \u001b[36mmmol/m3 C biomass\u001b[39m\n",
       "\n",
       "\u001b[32m  zIC\u001b[39m   (89 × 8)\n",
       "    Datatype:    \u001b[0m\u001b[1mFloat64\u001b[22m (Float64)\n",
       "    Dimensions:  ndepth × nz\n",
       "    Attributes:\n",
       "     units                = \u001b[36mmmol/m3 C biomass\u001b[39m\n",
       "\n",
       "\u001b[32m  nIC\u001b[39m   (89 × 1)\n",
       "    Datatype:    \u001b[0m\u001b[1mFloat64\u001b[22m (Float64)\n",
       "    Dimensions:  ndepth × nn\n",
       "    Attributes:\n",
       "     units                = \u001b[36mmmol/m3 C OM\u001b[39m\n",
       "\n",
       "\u001b[32m  dIC\u001b[39m   (89 × 10)\n",
       "    Datatype:    \u001b[0m\u001b[1mFloat64\u001b[22m (Float64)\n",
       "    Dimensions:  ndepth × nd\n",
       "    Attributes:\n",
       "     units                = \u001b[36mmmol/m3 C OM\u001b[39m\n",
       "\n",
       "\u001b[32m  timet\u001b[39m   (219601)\n",
       "    Datatype:    \u001b[0m\u001b[1mFloat64\u001b[22m (Float64)\n",
       "    Dimensions:  nrec\n",
       "    Attributes:\n",
       "     units                = \u001b[36mdays\u001b[39m\n",
       "\n",
       "\u001b[32m  H\u001b[39m  \n",
       "    Attributes:\n",
       "     units                = \u001b[36mm; total height\u001b[39m\n",
       "\n",
       "\u001b[32m  dz\u001b[39m  \n",
       "    Attributes:\n",
       "     units                = \u001b[36mm; box height\u001b[39m\n",
       "\n",
       "\u001b[32m  kappa_z\u001b[39m   (90)\n",
       "    Datatype:    \u001b[0m\u001b[1mFloat64\u001b[22m (Float64)\n",
       "    Dimensions:  ndepth1\n",
       "    Attributes:\n",
       "     units                = \u001b[36mvertical water velocity\u001b[39m\n",
       "\n",
       "\u001b[32m  wd\u001b[39m   (90 × 10)\n",
       "    Datatype:    \u001b[0m\u001b[1mFloat64\u001b[22m (Float64)\n",
       "    Dimensions:  ndepth1 × nd\n",
       "    Attributes:\n",
       "     units                = \u001b[36msinking rate\u001b[39m\n",
       "\n",
       "\u001b[32m  uptake\u001b[39m   (10 × 40)\n",
       "    Datatype:    \u001b[0m\u001b[1mFloat64\u001b[22m (Float64)\n",
       "    Dimensions:  nd × nb\n",
       "    Attributes:\n",
       "     units                = \u001b[36mmmol/m3 C per d; uptake matrix\u001b[39m\n",
       "\n",
       "\u001b[32m  SW\u001b[39m   (10)\n",
       "    Datatype:    \u001b[0m\u001b[1mFloat64\u001b[22m (Float64)\n",
       "    Dimensions:  nd\n",
       "    Attributes:\n",
       "     units                = \u001b[36mInd C supply weight: probability\u001b[39m\n",
       "\n",
       "\u001b[32m  pen\u001b[39m   (40)\n",
       "    Datatype:    \u001b[0m\u001b[1mFloat64\u001b[22m (Float64)\n",
       "    Dimensions:  nb\n",
       "    Attributes:\n",
       "     units                = \u001b[36mpenalty\u001b[39m\n",
       "\n",
       "\u001b[32m  umax_i\u001b[39m   (20)\n",
       "    Datatype:    \u001b[0m\u001b[1mFloat64\u001b[22m (Float64)\n",
       "    Dimensions:  np\n",
       "    Attributes:\n",
       "     units                = \u001b[36mm3/mmol/d; max growth rate of p\u001b[39m\n",
       "\n",
       "\u001b[32m  umax_ij\u001b[39m   (1 × 20)\n",
       "    Datatype:    \u001b[0m\u001b[1mFloat64\u001b[22m (Float64)\n",
       "    Dimensions:  nn × np\n",
       "    Attributes:\n",
       "     units                = \u001b[36mper n; max uptake rate\u001b[39m\n",
       "\n",
       "\u001b[32m  Kp_ij\u001b[39m   (1 × 20)\n",
       "    Datatype:    \u001b[0m\u001b[1mFloat64\u001b[22m (Float64)\n",
       "    Dimensions:  nn × np\n",
       "    Attributes:\n",
       "     units                = \u001b[36mmmol/m3; half-sat\u001b[39m\n",
       "\n",
       "\u001b[32m  CM\u001b[39m   (10 × 40)\n",
       "    Datatype:    \u001b[0m\u001b[1mFloat64\u001b[22m (Float64)\n",
       "    Dimensions:  nd × nb\n",
       "    Attributes:\n",
       "     units                = \u001b[36mConsumption Matrix (nb x nd)\u001b[39m\n",
       "\n",
       "\u001b[32m  CMp\u001b[39m   (1 × 20)\n",
       "    Datatype:    \u001b[0m\u001b[1mFloat64\u001b[22m (Float64)\n",
       "    Dimensions:  nn × np\n",
       "    Attributes:\n",
       "     units                = \u001b[36mConsumption Matrix (np x nn)\u001b[39m\n",
       "\n",
       "\u001b[32m  GrM\u001b[39m   (8 × 60)\n",
       "    Datatype:    \u001b[0m\u001b[1mFloat64\u001b[22m (Float64)\n",
       "    Dimensions:  nz × nprey\n",
       "    Attributes:\n",
       "     units                = \u001b[36mGrazing Matrix\u001b[39m\n",
       "\n",
       "\u001b[32m  y_ij\u001b[39m   (10 × 40)\n",
       "    Datatype:    \u001b[0m\u001b[1mFloat64\u001b[22m (Float64)\n",
       "    Dimensions:  nd × nb\n",
       "    Attributes:\n",
       "     units                = \u001b[36mper d; max yield rate\u001b[39m\n",
       "\n",
       "\u001b[32m  vmax_i\u001b[39m   (10)\n",
       "    Datatype:    \u001b[0m\u001b[1mFloat64\u001b[22m (Float64)\n",
       "    Dimensions:  nd\n",
       "    Attributes:\n",
       "     units                = \u001b[36mper d; max uptake rate\u001b[39m\n",
       "\n",
       "\u001b[32m  vmax_ij\u001b[39m   (10 × 40)\n",
       "    Datatype:    \u001b[0m\u001b[1mFloat64\u001b[22m (Float64)\n",
       "    Dimensions:  nd × nb\n",
       "    Attributes:\n",
       "     units                = \u001b[36mper d; max uptake rate\u001b[39m\n",
       "\n",
       "\u001b[32m  Km_ij\u001b[39m   (10 × 40)\n",
       "    Datatype:    \u001b[0m\u001b[1mFloat64\u001b[22m (Float64)\n",
       "    Dimensions:  nd × nb\n",
       "    Attributes:\n",
       "     units                = \u001b[36mmmol/m3; half-sat\u001b[39m\n",
       "\n",
       "\u001b[32m  m_lb\u001b[39m   (40)\n",
       "    Datatype:    \u001b[0m\u001b[1mFloat64\u001b[22m (Float64)\n",
       "    Dimensions:  nb\n",
       "    Attributes:\n",
       "     units                = \u001b[36mm3/mmol; linear death rate of b\u001b[39m\n",
       "\n",
       "\u001b[32m  m_qb\u001b[39m   (40)\n",
       "    Datatype:    \u001b[0m\u001b[1mFloat64\u001b[22m (Float64)\n",
       "    Dimensions:  nb\n",
       "    Attributes:\n",
       "     units                = \u001b[36mm3/mmol; quadratic death rate of b\u001b[39m\n",
       "\n",
       "\u001b[32m  K_g\u001b[39m   (8)\n",
       "    Datatype:    \u001b[0m\u001b[1mFloat64\u001b[22m (Float64)\n",
       "    Dimensions:  nz\n",
       "    Attributes:\n",
       "     units                = \u001b[36mm3/mmol; half-sat rate of z\u001b[39m\n",
       "\n",
       "\u001b[32m  γ\u001b[39m   (8)\n",
       "    Datatype:    \u001b[0m\u001b[1mFloat64\u001b[22m (Float64)\n",
       "    Dimensions:  nz\n",
       "    Attributes:\n",
       "     units                = \u001b[36mfraction of digestion of z\u001b[39m\n",
       "\n",
       "\u001b[32m  m_lz\u001b[39m   (8)\n",
       "    Datatype:    \u001b[0m\u001b[1mFloat64\u001b[22m (Float64)\n",
       "    Dimensions:  nz\n",
       "    Attributes:\n",
       "     units                = \u001b[36mm3/mmol; linear death rate of z\u001b[39m\n",
       "\n",
       "\u001b[32m  m_qz\u001b[39m   (8)\n",
       "    Datatype:    \u001b[0m\u001b[1mFloat64\u001b[22m (Float64)\n",
       "    Dimensions:  nz\n",
       "    Attributes:\n",
       "     units                = \u001b[36mm3/mmol; quadratic death rate of z\u001b[39m\n",
       "\n",
       "\u001b[31mGlobal attributes\u001b[39m\n",
       "  title                = \u001b[36mNPZBD 0D model i/o\u001b[39m\n",
       "  Start time           = \u001b[36m2023-07-01T17:19:04.206\u001b[39m\n",
       "  End time             = \u001b[36m2023-07-01T18:20:33.415\u001b[39m\n",
       "  Run time             = \u001b[36m3689209 milliseconds\u001b[39m\n",
       "  Season               = \u001b[36msummer\u001b[39m\n"
      ]
     },
     "metadata": {},
     "output_type": "display_data"
    }
   ],
   "source": [
    "summ = NCDataset(\"/home/lee/Dropbox/Development/NPZBD_1D/results/outfiles/out_30y_20230701_1718.nc\")"
   ]
  },
  {
   "cell_type": "code",
   "execution_count": 55,
   "metadata": {},
   "outputs": [
    {
     "data": {
      "text/plain": [
       "get_endpoints (generic function with 1 method)"
      ]
     },
     "metadata": {},
     "output_type": "display_data"
    }
   ],
   "source": [
    "function get_endpoints(ds, vars)\n",
    "\n",
    "    out = Vector{Any}()\n",
    "\n",
    "    for v in vars\n",
    "        append!(out, [ds[\"$v\"][:,:,end]])\n",
    "    end\n",
    "\n",
    "    return out[1], out[2], out[3], out[4], out[5], out[6]\n",
    "\n",
    "end"
   ]
  },
  {
   "cell_type": "code",
   "execution_count": 106,
   "metadata": {},
   "outputs": [
    {
     "data": {
      "text/plain": [
       "1-element Vector{StepRangeLen{Float64, Base.TwicePrecision{Float64}, Base.TwicePrecision{Float64}, Int64}}:\n",
       " 5.0:10.0:885.0"
      ]
     },
     "metadata": {},
     "output_type": "display_data"
    }
   ],
   "source": [
    "n, p, z, b, d, o = get_endpoints(summ, [\"n\", \"p\", \"z\", \"b\", \"d\", \"o\"])\n",
    "\n",
    "H = win[\"H\"][:]\n",
    "dz = win[\"dz\"][:]\n",
    "zc = [dz/2:dz:(H-dz/2)]"
   ]
  },
  {
   "cell_type": "code",
   "execution_count": 107,
   "metadata": {},
   "outputs": [
    {
     "data": {
      "text/plain": [
       "1.0e-10"
      ]
     },
     "metadata": {},
     "output_type": "display_data"
    }
   ],
   "source": [
    "cut_off = 10^-10"
   ]
  },
  {
   "cell_type": "code",
   "execution_count": 101,
   "metadata": {},
   "outputs": [
    {
     "data": {
      "text/plain": [
       "89×40 Matrix{Float64}:\n",
       " 5.69261e-8  0.114639    3.7068e-53   …  7.10159e-49  0.355205\n",
       " 5.81055e-8  0.114529    3.80915e-53     7.22449e-49  0.354821\n",
       " 6.26791e-8  0.114248    4.20646e-53     7.7054e-49   0.353861\n",
       " 7.59956e-8  0.113749    5.37368e-53     9.11078e-49  0.352063\n",
       " 1.10707e-7  0.113008    8.48719e-53     1.27669e-48  0.349128\n",
       " 1.97029e-7  0.112011    1.65975e-52  …  2.17933e-48  0.345056\n",
       " 4.09474e-7  0.110724    3.82045e-52     4.382e-48    0.340891\n",
       " 9.38969e-7  0.108958    9.87526e-52     9.86846e-48  0.339646\n",
       " 2.29315e-6  0.105795    2.79227e-51     2.40683e-47  0.346929\n",
       " 5.88691e-6  0.0987261   8.54986e-51     6.18699e-47  0.37193\n",
       " ⋮                                    ⋱               \n",
       " 6.42467e-6  4.64754e-6  4.68032e-44  …  2.78769e-42  0.000576783\n",
       " 6.35635e-6  4.57976e-6  4.68008e-44     2.78736e-42  0.000576671\n",
       " 6.30297e-6  4.52618e-6  4.67988e-44     2.78709e-42  0.000576635\n",
       " 6.26207e-6  4.48465e-6  4.67971e-44     2.78688e-42  0.000576645\n",
       " 6.23159e-6  4.45335e-6  4.67957e-44     2.78671e-42  0.00057668\n",
       " 6.20976e-6  4.43069e-6  4.67947e-44  …  2.78658e-42  0.000576723\n",
       " 6.1951e-6   4.41531e-6  4.6794e-44      2.7865e-42   0.000576763\n",
       " 6.18634e-6  4.40603e-6  4.67935e-44     2.78645e-42  0.000576794\n",
       " 6.18241e-6  4.40182e-6  4.67933e-44     2.78642e-42  0.00057681"
      ]
     },
     "metadata": {},
     "output_type": "display_data"
    }
   ],
   "source": [
    "b"
   ]
  },
  {
   "cell_type": "code",
   "execution_count": 108,
   "metadata": {},
   "outputs": [
    {
     "data": {
      "text/plain": [
       "2682-element view(::Vector{Float64}, [179, 180, 181, 182, 183, 184, 185, 186, 187, 188  …  3462, 3463, 3464, 3465, 3466, 3467, 3468, 3469, 3470, 3471]) with eltype Float64:\n",
       " 0.0\n",
       " 0.0\n",
       " 0.0\n",
       " 0.0\n",
       " 0.0\n",
       " 0.0\n",
       " 0.0\n",
       " 0.0\n",
       " 0.0\n",
       " 0.0\n",
       " ⋮\n",
       " 0.0\n",
       " 0.0\n",
       " 0.0\n",
       " 0.0\n",
       " 0.0\n",
       " 0.0\n",
       " 0.0\n",
       " 0.0\n",
       " 0.0"
      ]
     },
     "metadata": {},
     "output_type": "display_data"
    }
   ],
   "source": [
    "p[p .< cut_off] .= 0\n",
    "z[z .< cut_off] .= 0\n",
    "b[b .< cut_off] .= 0"
   ]
  },
  {
   "cell_type": "code",
   "execution_count": 103,
   "metadata": {},
   "outputs": [
    {
     "data": {
      "text/html": [
       "<div><div style = \"float: left;\"><span>89×40 DataFrame</span></div><div style = \"float: right;\"><span style = \"font-style: italic;\">64 rows omitted</span></div><div style = \"clear: both;\"></div></div><div class = \"data-frame\" style = \"overflow-x: scroll;\"><table class = \"data-frame\" style = \"margin-bottom: 6px;\"><thead><tr class = \"header\"><th class = \"rowNumber\" style = \"font-weight: bold; text-align: right;\">Row</th><th style = \"text-align: left;\">x1</th><th style = \"text-align: left;\">x2</th><th style = \"text-align: left;\">x3</th><th style = \"text-align: left;\">x4</th><th style = \"text-align: left;\">x5</th><th style = \"text-align: left;\">x6</th><th style = \"text-align: left;\">x7</th><th style = \"text-align: left;\">x8</th><th style = \"text-align: left;\">x9</th><th style = \"text-align: left;\">x10</th><th style = \"text-align: left;\">x11</th><th style = \"text-align: left;\">x12</th><th style = \"text-align: left;\">x13</th><th style = \"text-align: left;\">x14</th><th style = \"text-align: left;\">x15</th><th style = \"text-align: left;\">x16</th><th style = \"text-align: left;\">x17</th><th style = \"text-align: left;\">x18</th><th style = \"text-align: left;\">x19</th><th style = \"text-align: left;\">x20</th><th style = \"text-align: left;\">x21</th><th style = \"text-align: left;\">x22</th><th style = \"text-align: left;\">x23</th><th style = \"text-align: left;\">x24</th><th style = \"text-align: left;\">x25</th><th style = \"text-align: left;\">x26</th><th style = \"text-align: left;\">x27</th><th style = \"text-align: left;\">x28</th><th style = \"text-align: left;\">x29</th><th style = \"text-align: left;\">x30</th><th style = \"text-align: left;\">x31</th><th style = \"text-align: left;\">x32</th><th style = \"text-align: left;\">x33</th><th style = \"text-align: left;\">x34</th><th style = \"text-align: left;\">x35</th><th style = \"text-align: left;\">x36</th><th style = \"text-align: left;\">x37</th><th style = \"text-align: left;\">x38</th><th style = \"text-align: left;\">x39</th><th style = \"text-align: left;\">x40</th></tr><tr class = \"subheader headerLastRow\"><th class = \"rowNumber\" style = \"font-weight: bold; text-align: right;\"></th><th title = \"Float64\" style = \"text-align: left;\">Float64</th><th title = \"Float64\" style = \"text-align: left;\">Float64</th><th title = \"Float64\" style = \"text-align: left;\">Float64</th><th title = \"Float64\" style = \"text-align: left;\">Float64</th><th title = \"Float64\" style = \"text-align: left;\">Float64</th><th title = \"Float64\" style = \"text-align: left;\">Float64</th><th title = \"Float64\" style = \"text-align: left;\">Float64</th><th title = \"Float64\" style = \"text-align: left;\">Float64</th><th title = \"Float64\" style = \"text-align: left;\">Float64</th><th title = \"Float64\" style = \"text-align: left;\">Float64</th><th title = \"Float64\" style = \"text-align: left;\">Float64</th><th title = \"Float64\" style = \"text-align: left;\">Float64</th><th title = \"Float64\" style = \"text-align: left;\">Float64</th><th title = \"Float64\" style = \"text-align: left;\">Float64</th><th title = \"Float64\" style = \"text-align: left;\">Float64</th><th title = \"Float64\" style = \"text-align: left;\">Float64</th><th title = \"Float64\" style = \"text-align: left;\">Float64</th><th title = \"Float64\" style = \"text-align: left;\">Float64</th><th title = \"Float64\" style = \"text-align: left;\">Float64</th><th title = \"Float64\" style = \"text-align: left;\">Float64</th><th title = \"Float64\" style = \"text-align: left;\">Float64</th><th title = \"Float64\" style = \"text-align: left;\">Float64</th><th title = \"Float64\" style = \"text-align: left;\">Float64</th><th title = \"Float64\" style = \"text-align: left;\">Float64</th><th title = \"Float64\" style = \"text-align: left;\">Float64</th><th title = \"Float64\" style = \"text-align: left;\">Float64</th><th title = \"Float64\" style = \"text-align: left;\">Float64</th><th title = \"Float64\" style = \"text-align: left;\">Float64</th><th title = \"Float64\" style = \"text-align: left;\">Float64</th><th title = \"Float64\" style = \"text-align: left;\">Float64</th><th title = \"Float64\" style = \"text-align: left;\">Float64</th><th title = \"Float64\" style = \"text-align: left;\">Float64</th><th title = \"Float64\" style = \"text-align: left;\">Float64</th><th title = \"Float64\" style = \"text-align: left;\">Float64</th><th title = \"Float64\" style = \"text-align: left;\">Float64</th><th title = \"Float64\" style = \"text-align: left;\">Float64</th><th title = \"Float64\" style = \"text-align: left;\">Float64</th><th title = \"Float64\" style = \"text-align: left;\">Float64</th><th title = \"Float64\" style = \"text-align: left;\">Float64</th><th title = \"Float64\" style = \"text-align: left;\">Float64</th></tr></thead><tbody><tr><td class = \"rowNumber\" style = \"font-weight: bold; text-align: right;\">1</td><td style = \"text-align: right;\">5.69261e-8</td><td style = \"text-align: right;\">0.114639</td><td style = \"text-align: right;\">0.0</td><td style = \"text-align: right;\">0.0</td><td style = \"text-align: right;\">0.0</td><td style = \"text-align: right;\">0.0</td><td style = \"text-align: right;\">0.0</td><td style = \"text-align: right;\">0.0</td><td style = \"text-align: right;\">0.0</td><td style = \"text-align: right;\">0.0</td><td style = \"text-align: right;\">0.0</td><td style = \"text-align: right;\">0.0</td><td style = \"text-align: right;\">0.0</td><td style = \"text-align: right;\">0.0</td><td style = \"text-align: right;\">0.0</td><td style = \"text-align: right;\">0.0</td><td style = \"text-align: right;\">0.0</td><td style = \"text-align: right;\">0.0</td><td style = \"text-align: right;\">0.0</td><td style = \"text-align: right;\">0.0</td><td style = \"text-align: right;\">0.0</td><td style = \"text-align: right;\">0.0</td><td style = \"text-align: right;\">0.0</td><td style = \"text-align: right;\">0.0</td><td style = \"text-align: right;\">7.47008e-8</td><td style = \"text-align: right;\">0.173546</td><td style = \"text-align: right;\">0.0</td><td style = \"text-align: right;\">0.0</td><td style = \"text-align: right;\">0.0</td><td style = \"text-align: right;\">8.88263e-5</td><td style = \"text-align: right;\">0.0</td><td style = \"text-align: right;\">0.000226785</td><td style = \"text-align: right;\">0.0</td><td style = \"text-align: right;\">0.0</td><td style = \"text-align: right;\">0.0</td><td style = \"text-align: right;\">0.0</td><td style = \"text-align: right;\">0.0</td><td style = \"text-align: right;\">0.293878</td><td style = \"text-align: right;\">0.0</td><td style = \"text-align: right;\">0.355205</td></tr><tr><td class = \"rowNumber\" style = \"font-weight: bold; text-align: right;\">2</td><td style = \"text-align: right;\">5.81055e-8</td><td style = \"text-align: right;\">0.114529</td><td style = \"text-align: right;\">0.0</td><td style = \"text-align: right;\">0.0</td><td style = \"text-align: right;\">0.0</td><td style = \"text-align: right;\">0.0</td><td style = \"text-align: right;\">0.0</td><td style = \"text-align: right;\">0.0</td><td style = \"text-align: right;\">0.0</td><td style = \"text-align: right;\">0.0</td><td style = \"text-align: right;\">0.0</td><td style = \"text-align: right;\">0.0</td><td style = \"text-align: right;\">0.0</td><td style = \"text-align: right;\">0.0</td><td style = \"text-align: right;\">0.0</td><td style = \"text-align: right;\">0.0</td><td style = \"text-align: right;\">0.0</td><td style = \"text-align: right;\">0.0</td><td style = \"text-align: right;\">0.0</td><td style = \"text-align: right;\">0.0</td><td style = \"text-align: right;\">0.0</td><td style = \"text-align: right;\">0.0</td><td style = \"text-align: right;\">0.0</td><td style = \"text-align: right;\">0.0</td><td style = \"text-align: right;\">7.65762e-8</td><td style = \"text-align: right;\">0.173457</td><td style = \"text-align: right;\">0.0</td><td style = \"text-align: right;\">0.0</td><td style = \"text-align: right;\">0.0</td><td style = \"text-align: right;\">9.1325e-5</td><td style = \"text-align: right;\">0.0</td><td style = \"text-align: right;\">0.000230992</td><td style = \"text-align: right;\">0.0</td><td style = \"text-align: right;\">0.0</td><td style = \"text-align: right;\">0.0</td><td style = \"text-align: right;\">0.0</td><td style = \"text-align: right;\">0.0</td><td style = \"text-align: right;\">0.293747</td><td style = \"text-align: right;\">0.0</td><td style = \"text-align: right;\">0.354821</td></tr><tr><td class = \"rowNumber\" style = \"font-weight: bold; text-align: right;\">3</td><td style = \"text-align: right;\">6.26791e-8</td><td style = \"text-align: right;\">0.114248</td><td style = \"text-align: right;\">0.0</td><td style = \"text-align: right;\">0.0</td><td style = \"text-align: right;\">0.0</td><td style = \"text-align: right;\">0.0</td><td style = \"text-align: right;\">0.0</td><td style = \"text-align: right;\">0.0</td><td style = \"text-align: right;\">0.0</td><td style = \"text-align: right;\">0.0</td><td style = \"text-align: right;\">0.0</td><td style = \"text-align: right;\">0.0</td><td style = \"text-align: right;\">0.0</td><td style = \"text-align: right;\">0.0</td><td style = \"text-align: right;\">0.0</td><td style = \"text-align: right;\">0.0</td><td style = \"text-align: right;\">0.0</td><td style = \"text-align: right;\">0.0</td><td style = \"text-align: right;\">0.0</td><td style = \"text-align: right;\">0.0</td><td style = \"text-align: right;\">0.0</td><td style = \"text-align: right;\">0.0</td><td style = \"text-align: right;\">0.0</td><td style = \"text-align: right;\">0.0</td><td style = \"text-align: right;\">8.39164e-8</td><td style = \"text-align: right;\">0.173235</td><td style = \"text-align: right;\">0.0</td><td style = \"text-align: right;\">0.0</td><td style = \"text-align: right;\">0.0</td><td style = \"text-align: right;\">0.000101082</td><td style = \"text-align: right;\">0.0</td><td style = \"text-align: right;\">0.000247371</td><td style = \"text-align: right;\">0.0</td><td style = \"text-align: right;\">0.0</td><td style = \"text-align: right;\">0.0</td><td style = \"text-align: right;\">0.0</td><td style = \"text-align: right;\">0.0</td><td style = \"text-align: right;\">0.293529</td><td style = \"text-align: right;\">0.0</td><td style = \"text-align: right;\">0.353861</td></tr><tr><td class = \"rowNumber\" style = \"font-weight: bold; text-align: right;\">4</td><td style = \"text-align: right;\">7.59956e-8</td><td style = \"text-align: right;\">0.113749</td><td style = \"text-align: right;\">0.0</td><td style = \"text-align: right;\">0.0</td><td style = \"text-align: right;\">0.0</td><td style = \"text-align: right;\">0.0</td><td style = \"text-align: right;\">0.0</td><td style = \"text-align: right;\">0.0</td><td style = \"text-align: right;\">0.0</td><td style = \"text-align: right;\">0.0</td><td style = \"text-align: right;\">0.0</td><td style = \"text-align: right;\">0.0</td><td style = \"text-align: right;\">0.0</td><td style = \"text-align: right;\">0.0</td><td style = \"text-align: right;\">0.0</td><td style = \"text-align: right;\">0.0</td><td style = \"text-align: right;\">0.0</td><td style = \"text-align: right;\">0.0</td><td style = \"text-align: right;\">0.0</td><td style = \"text-align: right;\">0.0</td><td style = \"text-align: right;\">0.0</td><td style = \"text-align: right;\">1.07197e-10</td><td style = \"text-align: right;\">0.0</td><td style = \"text-align: right;\">0.0</td><td style = \"text-align: right;\">1.05526e-7</td><td style = \"text-align: right;\">0.172804</td><td style = \"text-align: right;\">0.0</td><td style = \"text-align: right;\">0.0</td><td style = \"text-align: right;\">0.0</td><td style = \"text-align: right;\">0.000129849</td><td style = \"text-align: right;\">0.0</td><td style = \"text-align: right;\">0.000295018</td><td style = \"text-align: right;\">0.0</td><td style = \"text-align: right;\">0.0</td><td style = \"text-align: right;\">0.0</td><td style = \"text-align: right;\">0.0</td><td style = \"text-align: right;\">0.0</td><td style = \"text-align: right;\">0.293406</td><td style = \"text-align: right;\">0.0</td><td style = \"text-align: right;\">0.352063</td></tr><tr><td class = \"rowNumber\" style = \"font-weight: bold; text-align: right;\">5</td><td style = \"text-align: right;\">1.10707e-7</td><td style = \"text-align: right;\">0.113008</td><td style = \"text-align: right;\">0.0</td><td style = \"text-align: right;\">0.0</td><td style = \"text-align: right;\">0.0</td><td style = \"text-align: right;\">0.0</td><td style = \"text-align: right;\">0.0</td><td style = \"text-align: right;\">0.0</td><td style = \"text-align: right;\">0.0</td><td style = \"text-align: right;\">0.0</td><td style = \"text-align: right;\">0.0</td><td style = \"text-align: right;\">0.0</td><td style = \"text-align: right;\">0.0</td><td style = \"text-align: right;\">0.0</td><td style = \"text-align: right;\">0.0</td><td style = \"text-align: right;\">0.0</td><td style = \"text-align: right;\">0.0</td><td style = \"text-align: right;\">0.0</td><td style = \"text-align: right;\">0.0</td><td style = \"text-align: right;\">0.0</td><td style = \"text-align: right;\">0.0</td><td style = \"text-align: right;\">1.96391e-10</td><td style = \"text-align: right;\">0.0</td><td style = \"text-align: right;\">0.0</td><td style = \"text-align: right;\">1.62905e-7</td><td style = \"text-align: right;\">0.172039</td><td style = \"text-align: right;\">0.0</td><td style = \"text-align: right;\">0.0</td><td style = \"text-align: right;\">0.0</td><td style = \"text-align: right;\">0.000206715</td><td style = \"text-align: right;\">0.0</td><td style = \"text-align: right;\">0.000418455</td><td style = \"text-align: right;\">0.0</td><td style = \"text-align: right;\">0.0</td><td style = \"text-align: right;\">0.0</td><td style = \"text-align: right;\">0.0</td><td style = \"text-align: right;\">0.0</td><td style = \"text-align: right;\">0.293789</td><td style = \"text-align: right;\">0.0</td><td style = \"text-align: right;\">0.349128</td></tr><tr><td class = \"rowNumber\" style = \"font-weight: bold; text-align: right;\">6</td><td style = \"text-align: right;\">1.97029e-7</td><td style = \"text-align: right;\">0.112011</td><td style = \"text-align: right;\">0.0</td><td style = \"text-align: right;\">0.0</td><td style = \"text-align: right;\">0.0</td><td style = \"text-align: right;\">0.0</td><td style = \"text-align: right;\">0.0</td><td style = \"text-align: right;\">0.0</td><td style = \"text-align: right;\">0.0</td><td style = \"text-align: right;\">0.0</td><td style = \"text-align: right;\">0.0</td><td style = \"text-align: right;\">0.0</td><td style = \"text-align: right;\">0.0</td><td style = \"text-align: right;\">0.0</td><td style = \"text-align: right;\">0.0</td><td style = \"text-align: right;\">0.0</td><td style = \"text-align: right;\">0.0</td><td style = \"text-align: right;\">0.0</td><td style = \"text-align: right;\">0.0</td><td style = \"text-align: right;\">0.0</td><td style = \"text-align: right;\">0.0</td><td style = \"text-align: right;\">4.50925e-10</td><td style = \"text-align: right;\">0.0</td><td style = \"text-align: right;\">0.0</td><td style = \"text-align: right;\">3.10371e-7</td><td style = \"text-align: right;\">0.170798</td><td style = \"text-align: right;\">0.0</td><td style = \"text-align: right;\">0.0</td><td style = \"text-align: right;\">0.0</td><td style = \"text-align: right;\">0.00040676</td><td style = \"text-align: right;\">0.0</td><td style = \"text-align: right;\">0.000721202</td><td style = \"text-align: right;\">0.0</td><td style = \"text-align: right;\">0.0</td><td style = \"text-align: right;\">0.0</td><td style = \"text-align: right;\">0.0</td><td style = \"text-align: right;\">0.0</td><td style = \"text-align: right;\">0.295472</td><td style = \"text-align: right;\">0.0</td><td style = \"text-align: right;\">0.345056</td></tr><tr><td class = \"rowNumber\" style = \"font-weight: bold; text-align: right;\">7</td><td style = \"text-align: right;\">4.09474e-7</td><td style = \"text-align: right;\">0.110724</td><td style = \"text-align: right;\">0.0</td><td style = \"text-align: right;\">0.0</td><td style = \"text-align: right;\">0.0</td><td style = \"text-align: right;\">0.0</td><td style = \"text-align: right;\">0.0</td><td style = \"text-align: right;\">0.0</td><td style = \"text-align: right;\">0.0</td><td style = \"text-align: right;\">0.0</td><td style = \"text-align: right;\">0.0</td><td style = \"text-align: right;\">0.0</td><td style = \"text-align: right;\">0.0</td><td style = \"text-align: right;\">0.0</td><td style = \"text-align: right;\">0.0</td><td style = \"text-align: right;\">0.0</td><td style = \"text-align: right;\">0.0</td><td style = \"text-align: right;\">0.0</td><td style = \"text-align: right;\">0.0</td><td style = \"text-align: right;\">0.0</td><td style = \"text-align: right;\">0.0</td><td style = \"text-align: right;\">1.22875e-9</td><td style = \"text-align: right;\">0.0</td><td style = \"text-align: right;\">0.0</td><td style = \"text-align: right;\">6.93124e-7</td><td style = \"text-align: right;\">0.169091</td><td style = \"text-align: right;\">0.0</td><td style = \"text-align: right;\">0.0</td><td style = \"text-align: right;\">0.0</td><td style = \"text-align: right;\">0.000935216</td><td style = \"text-align: right;\">0.0</td><td style = \"text-align: right;\">0.00144615</td><td style = \"text-align: right;\">0.0</td><td style = \"text-align: right;\">0.0</td><td style = \"text-align: right;\">0.0</td><td style = \"text-align: right;\">0.0</td><td style = \"text-align: right;\">0.0</td><td style = \"text-align: right;\">0.299825</td><td style = \"text-align: right;\">0.0</td><td style = \"text-align: right;\">0.340891</td></tr><tr><td class = \"rowNumber\" style = \"font-weight: bold; text-align: right;\">8</td><td style = \"text-align: right;\">9.38969e-7</td><td style = \"text-align: right;\">0.108958</td><td style = \"text-align: right;\">0.0</td><td style = \"text-align: right;\">0.0</td><td style = \"text-align: right;\">0.0</td><td style = \"text-align: right;\">0.0</td><td style = \"text-align: right;\">0.0</td><td style = \"text-align: right;\">0.0</td><td style = \"text-align: right;\">0.0</td><td style = \"text-align: right;\">0.0</td><td style = \"text-align: right;\">0.0</td><td style = \"text-align: right;\">0.0</td><td style = \"text-align: right;\">0.0</td><td style = \"text-align: right;\">0.0</td><td style = \"text-align: right;\">0.0</td><td style = \"text-align: right;\">0.0</td><td style = \"text-align: right;\">0.0</td><td style = \"text-align: right;\">0.0</td><td style = \"text-align: right;\">0.0</td><td style = \"text-align: right;\">0.0</td><td style = \"text-align: right;\">0.0</td><td style = \"text-align: right;\">3.81922e-9</td><td style = \"text-align: right;\">0.0</td><td style = \"text-align: right;\">0.0</td><td style = \"text-align: right;\">1.71981e-6</td><td style = \"text-align: right;\">0.167347</td><td style = \"text-align: right;\">0.0</td><td style = \"text-align: right;\">0.0</td><td style = \"text-align: right;\">0.0</td><td style = \"text-align: right;\">0.00237327</td><td style = \"text-align: right;\">0.0</td><td style = \"text-align: right;\">0.00315918</td><td style = \"text-align: right;\">0.0</td><td style = \"text-align: right;\">0.0</td><td style = \"text-align: right;\">0.0</td><td style = \"text-align: right;\">0.0</td><td style = \"text-align: right;\">0.0</td><td style = \"text-align: right;\">0.308891</td><td style = \"text-align: right;\">0.0</td><td style = \"text-align: right;\">0.339646</td></tr><tr><td class = \"rowNumber\" style = \"font-weight: bold; text-align: right;\">9</td><td style = \"text-align: right;\">2.29315e-6</td><td style = \"text-align: right;\">0.105795</td><td style = \"text-align: right;\">0.0</td><td style = \"text-align: right;\">0.0</td><td style = \"text-align: right;\">0.0</td><td style = \"text-align: right;\">0.0</td><td style = \"text-align: right;\">0.0</td><td style = \"text-align: right;\">0.0</td><td style = \"text-align: right;\">0.0</td><td style = \"text-align: right;\">0.0</td><td style = \"text-align: right;\">0.0</td><td style = \"text-align: right;\">0.0</td><td style = \"text-align: right;\">0.0</td><td style = \"text-align: right;\">0.0</td><td style = \"text-align: right;\">0.0</td><td style = \"text-align: right;\">0.0</td><td style = \"text-align: right;\">0.0</td><td style = \"text-align: right;\">0.0</td><td style = \"text-align: right;\">0.0</td><td style = \"text-align: right;\">0.0</td><td style = \"text-align: right;\">0.0</td><td style = \"text-align: right;\">1.31056e-8</td><td style = \"text-align: right;\">0.0</td><td style = \"text-align: right;\">0.0</td><td style = \"text-align: right;\">4.57444e-6</td><td style = \"text-align: right;\">0.166662</td><td style = \"text-align: right;\">0.0</td><td style = \"text-align: right;\">0.0</td><td style = \"text-align: right;\">0.0</td><td style = \"text-align: right;\">0.00633361</td><td style = \"text-align: right;\">0.0</td><td style = \"text-align: right;\">0.00710426</td><td style = \"text-align: right;\">0.0</td><td style = \"text-align: right;\">0.0</td><td style = \"text-align: right;\">0.0</td><td style = \"text-align: right;\">0.0</td><td style = \"text-align: right;\">0.0</td><td style = \"text-align: right;\">0.325181</td><td style = \"text-align: right;\">0.0</td><td style = \"text-align: right;\">0.346929</td></tr><tr><td class = \"rowNumber\" style = \"font-weight: bold; text-align: right;\">10</td><td style = \"text-align: right;\">5.88691e-6</td><td style = \"text-align: right;\">0.0987261</td><td style = \"text-align: right;\">0.0</td><td style = \"text-align: right;\">0.0</td><td style = \"text-align: right;\">0.0</td><td style = \"text-align: right;\">0.0</td><td style = \"text-align: right;\">0.0</td><td style = \"text-align: right;\">0.0</td><td style = \"text-align: right;\">0.0</td><td style = \"text-align: right;\">0.0</td><td style = \"text-align: right;\">0.0</td><td style = \"text-align: right;\">0.0</td><td style = \"text-align: right;\">0.0</td><td style = \"text-align: right;\">0.0</td><td style = \"text-align: right;\">0.0</td><td style = \"text-align: right;\">0.0</td><td style = \"text-align: right;\">0.0</td><td style = \"text-align: right;\">0.0</td><td style = \"text-align: right;\">0.0</td><td style = \"text-align: right;\">0.0</td><td style = \"text-align: right;\">0.0</td><td style = \"text-align: right;\">4.80631e-8</td><td style = \"text-align: right;\">0.0</td><td style = \"text-align: right;\">0.0</td><td style = \"text-align: right;\">1.27042e-5</td><td style = \"text-align: right;\">0.169099</td><td style = \"text-align: right;\">0.0</td><td style = \"text-align: right;\">0.0</td><td style = \"text-align: right;\">2.16726e-10</td><td style = \"text-align: right;\">0.0167873</td><td style = \"text-align: right;\">0.0</td><td style = \"text-align: right;\">0.0156354</td><td style = \"text-align: right;\">0.0</td><td style = \"text-align: right;\">0.0</td><td style = \"text-align: right;\">0.0</td><td style = \"text-align: right;\">0.0</td><td style = \"text-align: right;\">0.0</td><td style = \"text-align: right;\">0.35169</td><td style = \"text-align: right;\">0.0</td><td style = \"text-align: right;\">0.37193</td></tr><tr><td class = \"rowNumber\" style = \"font-weight: bold; text-align: right;\">11</td><td style = \"text-align: right;\">1.59516e-5</td><td style = \"text-align: right;\">0.0854196</td><td style = \"text-align: right;\">0.0</td><td style = \"text-align: right;\">0.0</td><td style = \"text-align: right;\">0.0</td><td style = \"text-align: right;\">0.0</td><td style = \"text-align: right;\">0.0</td><td style = \"text-align: right;\">0.0</td><td style = \"text-align: right;\">0.0</td><td style = \"text-align: right;\">0.0</td><td style = \"text-align: right;\">0.0</td><td style = \"text-align: right;\">0.0</td><td style = \"text-align: right;\">0.0</td><td style = \"text-align: right;\">0.0</td><td style = \"text-align: right;\">0.0</td><td style = \"text-align: right;\">0.0</td><td style = \"text-align: right;\">0.0</td><td style = \"text-align: right;\">0.0</td><td style = \"text-align: right;\">0.0</td><td style = \"text-align: right;\">0.0</td><td style = \"text-align: right;\">0.0</td><td style = \"text-align: right;\">1.82513e-7</td><td style = \"text-align: right;\">0.0</td><td style = \"text-align: right;\">0.0</td><td style = \"text-align: right;\">3.58309e-5</td><td style = \"text-align: right;\">0.177871</td><td style = \"text-align: right;\">0.0</td><td style = \"text-align: right;\">0.0</td><td style = \"text-align: right;\">9.79865e-10</td><td style = \"text-align: right;\">0.0404886</td><td style = \"text-align: right;\">0.0</td><td style = \"text-align: right;\">0.0317571</td><td style = \"text-align: right;\">0.0</td><td style = \"text-align: right;\">0.0</td><td style = \"text-align: right;\">0.0</td><td style = \"text-align: right;\">0.0</td><td style = \"text-align: right;\">0.0</td><td style = \"text-align: right;\">0.392643</td><td style = \"text-align: right;\">0.0</td><td style = \"text-align: right;\">0.429576</td></tr><tr><td class = \"rowNumber\" style = \"font-weight: bold; text-align: right;\">12</td><td style = \"text-align: right;\">4.60226e-5</td><td style = \"text-align: right;\">0.0688119</td><td style = \"text-align: right;\">0.0</td><td style = \"text-align: right;\">0.0</td><td style = \"text-align: right;\">0.0</td><td style = \"text-align: right;\">0.0</td><td style = \"text-align: right;\">0.0</td><td style = \"text-align: right;\">0.0</td><td style = \"text-align: right;\">0.0</td><td style = \"text-align: right;\">0.0</td><td style = \"text-align: right;\">0.0</td><td style = \"text-align: right;\">0.0</td><td style = \"text-align: right;\">0.0</td><td style = \"text-align: right;\">0.0</td><td style = \"text-align: right;\">0.0</td><td style = \"text-align: right;\">0.0</td><td style = \"text-align: right;\">0.0</td><td style = \"text-align: right;\">0.0</td><td style = \"text-align: right;\">0.0</td><td style = \"text-align: right;\">0.0</td><td style = \"text-align: right;\">0.0</td><td style = \"text-align: right;\">6.94342e-7</td><td style = \"text-align: right;\">0.0</td><td style = \"text-align: right;\">0.0</td><td style = \"text-align: right;\">9.87407e-5</td><td style = \"text-align: right;\">0.192207</td><td style = \"text-align: right;\">0.0</td><td style = \"text-align: right;\">0.0</td><td style = \"text-align: right;\">5.12648e-9</td><td style = \"text-align: right;\">0.0778824</td><td style = \"text-align: right;\">0.0</td><td style = \"text-align: right;\">0.0547861</td><td style = \"text-align: right;\">0.0</td><td style = \"text-align: right;\">0.0</td><td style = \"text-align: right;\">0.0</td><td style = \"text-align: right;\">0.0</td><td style = \"text-align: right;\">0.0</td><td style = \"text-align: right;\">0.442546</td><td style = \"text-align: right;\">0.0</td><td style = \"text-align: right;\">0.524409</td></tr><tr><td class = \"rowNumber\" style = \"font-weight: bold; text-align: right;\">13</td><td style = \"text-align: right;\">0.000140504</td><td style = \"text-align: right;\">0.055666</td><td style = \"text-align: right;\">0.0</td><td style = \"text-align: right;\">0.0</td><td style = \"text-align: right;\">0.0</td><td style = \"text-align: right;\">0.0</td><td style = \"text-align: right;\">0.0</td><td style = \"text-align: right;\">0.0</td><td style = \"text-align: right;\">0.0</td><td style = \"text-align: right;\">0.0</td><td style = \"text-align: right;\">0.0</td><td style = \"text-align: right;\">0.0</td><td style = \"text-align: right;\">0.0</td><td style = \"text-align: right;\">0.0</td><td style = \"text-align: right;\">0.0</td><td style = \"text-align: right;\">0.0</td><td style = \"text-align: right;\">0.0</td><td style = \"text-align: right;\">0.0</td><td style = \"text-align: right;\">0.0</td><td style = \"text-align: right;\">0.0</td><td style = \"text-align: right;\">0.0</td><td style = \"text-align: right;\">2.56024e-6</td><td style = \"text-align: right;\">0.0</td><td style = \"text-align: right;\">0.0</td><td style = \"text-align: right;\">0.000250412</td><td style = \"text-align: right;\">0.186126</td><td style = \"text-align: right;\">0.0</td><td style = \"text-align: right;\">0.0</td><td style = \"text-align: right;\">2.95887e-8</td><td style = \"text-align: right;\">0.0974106</td><td style = \"text-align: right;\">0.0</td><td style = \"text-align: right;\">0.0694651</td><td style = \"text-align: right;\">0.0</td><td style = \"text-align: right;\">0.0</td><td style = \"text-align: right;\">0.0</td><td style = \"text-align: right;\">0.0</td><td style = \"text-align: right;\">0.0</td><td style = \"text-align: right;\">0.427346</td><td style = \"text-align: right;\">0.0</td><td style = \"text-align: right;\">0.546676</td></tr><tr><td style = \"text-align: right;\">&vellip;</td><td style = \"text-align: right;\">&vellip;</td><td style = \"text-align: right;\">&vellip;</td><td style = \"text-align: right;\">&vellip;</td><td style = \"text-align: right;\">&vellip;</td><td style = \"text-align: right;\">&vellip;</td><td style = \"text-align: right;\">&vellip;</td><td style = \"text-align: right;\">&vellip;</td><td style = \"text-align: right;\">&vellip;</td><td style = \"text-align: right;\">&vellip;</td><td style = \"text-align: right;\">&vellip;</td><td style = \"text-align: right;\">&vellip;</td><td style = \"text-align: right;\">&vellip;</td><td style = \"text-align: right;\">&vellip;</td><td style = \"text-align: right;\">&vellip;</td><td style = \"text-align: right;\">&vellip;</td><td style = \"text-align: right;\">&vellip;</td><td style = \"text-align: right;\">&vellip;</td><td style = \"text-align: right;\">&vellip;</td><td style = \"text-align: right;\">&vellip;</td><td style = \"text-align: right;\">&vellip;</td><td style = \"text-align: right;\">&vellip;</td><td style = \"text-align: right;\">&vellip;</td><td style = \"text-align: right;\">&vellip;</td><td style = \"text-align: right;\">&vellip;</td><td style = \"text-align: right;\">&vellip;</td><td style = \"text-align: right;\">&vellip;</td><td style = \"text-align: right;\">&vellip;</td><td style = \"text-align: right;\">&vellip;</td><td style = \"text-align: right;\">&vellip;</td><td style = \"text-align: right;\">&vellip;</td><td style = \"text-align: right;\">&vellip;</td><td style = \"text-align: right;\">&vellip;</td><td style = \"text-align: right;\">&vellip;</td><td style = \"text-align: right;\">&vellip;</td><td style = \"text-align: right;\">&vellip;</td><td style = \"text-align: right;\">&vellip;</td><td style = \"text-align: right;\">&vellip;</td><td style = \"text-align: right;\">&vellip;</td><td style = \"text-align: right;\">&vellip;</td><td style = \"text-align: right;\">&vellip;</td></tr><tr><td class = \"rowNumber\" style = \"font-weight: bold; text-align: right;\">78</td><td style = \"text-align: right;\">6.75085e-6</td><td style = \"text-align: right;\">4.96277e-6</td><td style = \"text-align: right;\">0.0</td><td style = \"text-align: right;\">0.0</td><td style = \"text-align: right;\">0.0</td><td style = \"text-align: right;\">0.0</td><td style = \"text-align: right;\">0.0</td><td style = \"text-align: right;\">0.0</td><td style = \"text-align: right;\">0.0</td><td style = \"text-align: right;\">0.0</td><td style = \"text-align: right;\">0.0</td><td style = \"text-align: right;\">0.0</td><td style = \"text-align: right;\">0.0</td><td style = \"text-align: right;\">0.0</td><td style = \"text-align: right;\">0.0</td><td style = \"text-align: right;\">0.0</td><td style = \"text-align: right;\">0.0</td><td style = \"text-align: right;\">0.0</td><td style = \"text-align: right;\">0.0</td><td style = \"text-align: right;\">0.0</td><td style = \"text-align: right;\">0.0</td><td style = \"text-align: right;\">8.80574e-5</td><td style = \"text-align: right;\">0.0</td><td style = \"text-align: right;\">0.0</td><td style = \"text-align: right;\">9.67468e-5</td><td style = \"text-align: right;\">3.15968e-7</td><td style = \"text-align: right;\">0.0</td><td style = \"text-align: right;\">0.0</td><td style = \"text-align: right;\">9.81567e-5</td><td style = \"text-align: right;\">3.50414e-8</td><td style = \"text-align: right;\">0.0</td><td style = \"text-align: right;\">4.56504e-8</td><td style = \"text-align: right;\">0.0</td><td style = \"text-align: right;\">0.0</td><td style = \"text-align: right;\">0.0</td><td style = \"text-align: right;\">0.0</td><td style = \"text-align: right;\">0.0</td><td style = \"text-align: right;\">1.38764e-6</td><td style = \"text-align: right;\">0.0</td><td style = \"text-align: right;\">0.000578041</td></tr><tr><td class = \"rowNumber\" style = \"font-weight: bold; text-align: right;\">79</td><td style = \"text-align: right;\">6.6182e-6</td><td style = \"text-align: right;\">4.83594e-6</td><td style = \"text-align: right;\">0.0</td><td style = \"text-align: right;\">0.0</td><td style = \"text-align: right;\">0.0</td><td style = \"text-align: right;\">0.0</td><td style = \"text-align: right;\">0.0</td><td style = \"text-align: right;\">0.0</td><td style = \"text-align: right;\">0.0</td><td style = \"text-align: right;\">0.0</td><td style = \"text-align: right;\">0.0</td><td style = \"text-align: right;\">0.0</td><td style = \"text-align: right;\">0.0</td><td style = \"text-align: right;\">0.0</td><td style = \"text-align: right;\">0.0</td><td style = \"text-align: right;\">0.0</td><td style = \"text-align: right;\">0.0</td><td style = \"text-align: right;\">0.0</td><td style = \"text-align: right;\">0.0</td><td style = \"text-align: right;\">0.0</td><td style = \"text-align: right;\">0.0</td><td style = \"text-align: right;\">8.69798e-5</td><td style = \"text-align: right;\">0.0</td><td style = \"text-align: right;\">0.0</td><td style = \"text-align: right;\">9.58294e-5</td><td style = \"text-align: right;\">3.06937e-7</td><td style = \"text-align: right;\">0.0</td><td style = \"text-align: right;\">0.0</td><td style = \"text-align: right;\">9.70975e-5</td><td style = \"text-align: right;\">3.40175e-8</td><td style = \"text-align: right;\">0.0</td><td style = \"text-align: right;\">4.43045e-8</td><td style = \"text-align: right;\">0.0</td><td style = \"text-align: right;\">0.0</td><td style = \"text-align: right;\">0.0</td><td style = \"text-align: right;\">0.0</td><td style = \"text-align: right;\">0.0</td><td style = \"text-align: right;\">1.35006e-6</td><td style = \"text-align: right;\">0.0</td><td style = \"text-align: right;\">0.000577407</td></tr><tr><td class = \"rowNumber\" style = \"font-weight: bold; text-align: right;\">80</td><td style = \"text-align: right;\">6.51082e-6</td><td style = \"text-align: right;\">4.73198e-6</td><td style = \"text-align: right;\">0.0</td><td style = \"text-align: right;\">0.0</td><td style = \"text-align: right;\">0.0</td><td style = \"text-align: right;\">0.0</td><td style = \"text-align: right;\">0.0</td><td style = \"text-align: right;\">0.0</td><td style = \"text-align: right;\">0.0</td><td style = \"text-align: right;\">0.0</td><td style = \"text-align: right;\">0.0</td><td style = \"text-align: right;\">0.0</td><td style = \"text-align: right;\">0.0</td><td style = \"text-align: right;\">0.0</td><td style = \"text-align: right;\">0.0</td><td style = \"text-align: right;\">0.0</td><td style = \"text-align: right;\">0.0</td><td style = \"text-align: right;\">0.0</td><td style = \"text-align: right;\">0.0</td><td style = \"text-align: right;\">0.0</td><td style = \"text-align: right;\">0.0</td><td style = \"text-align: right;\">8.60926e-5</td><td style = \"text-align: right;\">0.0</td><td style = \"text-align: right;\">0.0</td><td style = \"text-align: right;\">9.51021e-5</td><td style = \"text-align: right;\">2.99542e-7</td><td style = \"text-align: right;\">0.0</td><td style = \"text-align: right;\">0.0</td><td style = \"text-align: right;\">9.62241e-5</td><td style = \"text-align: right;\">3.31791e-8</td><td style = \"text-align: right;\">0.0</td><td style = \"text-align: right;\">4.32027e-8</td><td style = \"text-align: right;\">0.0</td><td style = \"text-align: right;\">0.0</td><td style = \"text-align: right;\">0.0</td><td style = \"text-align: right;\">0.0</td><td style = \"text-align: right;\">0.0</td><td style = \"text-align: right;\">1.31928e-6</td><td style = \"text-align: right;\">0.0</td><td style = \"text-align: right;\">0.000577011</td></tr><tr><td class = \"rowNumber\" style = \"font-weight: bold; text-align: right;\">81</td><td style = \"text-align: right;\">6.42467e-6</td><td style = \"text-align: right;\">4.64754e-6</td><td style = \"text-align: right;\">0.0</td><td style = \"text-align: right;\">0.0</td><td style = \"text-align: right;\">0.0</td><td style = \"text-align: right;\">0.0</td><td style = \"text-align: right;\">0.0</td><td style = \"text-align: right;\">0.0</td><td style = \"text-align: right;\">0.0</td><td style = \"text-align: right;\">0.0</td><td style = \"text-align: right;\">0.0</td><td style = \"text-align: right;\">0.0</td><td style = \"text-align: right;\">0.0</td><td style = \"text-align: right;\">0.0</td><td style = \"text-align: right;\">0.0</td><td style = \"text-align: right;\">0.0</td><td style = \"text-align: right;\">0.0</td><td style = \"text-align: right;\">0.0</td><td style = \"text-align: right;\">0.0</td><td style = \"text-align: right;\">0.0</td><td style = \"text-align: right;\">0.0</td><td style = \"text-align: right;\">8.53693e-5</td><td style = \"text-align: right;\">0.0</td><td style = \"text-align: right;\">0.0</td><td style = \"text-align: right;\">9.4531e-5</td><td style = \"text-align: right;\">2.93542e-7</td><td style = \"text-align: right;\">0.0</td><td style = \"text-align: right;\">0.0</td><td style = \"text-align: right;\">9.55111e-5</td><td style = \"text-align: right;\">3.24989e-8</td><td style = \"text-align: right;\">0.0</td><td style = \"text-align: right;\">4.23089e-8</td><td style = \"text-align: right;\">0.0</td><td style = \"text-align: right;\">0.0</td><td style = \"text-align: right;\">0.0</td><td style = \"text-align: right;\">0.0</td><td style = \"text-align: right;\">0.0</td><td style = \"text-align: right;\">1.29428e-6</td><td style = \"text-align: right;\">0.0</td><td style = \"text-align: right;\">0.000576783</td></tr><tr><td class = \"rowNumber\" style = \"font-weight: bold; text-align: right;\">82</td><td style = \"text-align: right;\">6.35635e-6</td><td style = \"text-align: right;\">4.57976e-6</td><td style = \"text-align: right;\">0.0</td><td style = \"text-align: right;\">0.0</td><td style = \"text-align: right;\">0.0</td><td style = \"text-align: right;\">0.0</td><td style = \"text-align: right;\">0.0</td><td style = \"text-align: right;\">0.0</td><td style = \"text-align: right;\">0.0</td><td style = \"text-align: right;\">0.0</td><td style = \"text-align: right;\">0.0</td><td style = \"text-align: right;\">0.0</td><td style = \"text-align: right;\">0.0</td><td style = \"text-align: right;\">0.0</td><td style = \"text-align: right;\">0.0</td><td style = \"text-align: right;\">0.0</td><td style = \"text-align: right;\">0.0</td><td style = \"text-align: right;\">0.0</td><td style = \"text-align: right;\">0.0</td><td style = \"text-align: right;\">0.0</td><td style = \"text-align: right;\">0.0</td><td style = \"text-align: right;\">8.47867e-5</td><td style = \"text-align: right;\">0.0</td><td style = \"text-align: right;\">0.0</td><td style = \"text-align: right;\">9.40876e-5</td><td style = \"text-align: right;\">2.88729e-7</td><td style = \"text-align: right;\">0.0</td><td style = \"text-align: right;\">0.0</td><td style = \"text-align: right;\">9.49361e-5</td><td style = \"text-align: right;\">3.19534e-8</td><td style = \"text-align: right;\">0.0</td><td style = \"text-align: right;\">4.15921e-8</td><td style = \"text-align: right;\">0.0</td><td style = \"text-align: right;\">0.0</td><td style = \"text-align: right;\">0.0</td><td style = \"text-align: right;\">0.0</td><td style = \"text-align: right;\">0.0</td><td style = \"text-align: right;\">1.27423e-6</td><td style = \"text-align: right;\">0.0</td><td style = \"text-align: right;\">0.000576671</td></tr><tr><td class = \"rowNumber\" style = \"font-weight: bold; text-align: right;\">83</td><td style = \"text-align: right;\">6.30297e-6</td><td style = \"text-align: right;\">4.52618e-6</td><td style = \"text-align: right;\">0.0</td><td style = \"text-align: right;\">0.0</td><td style = \"text-align: right;\">0.0</td><td style = \"text-align: right;\">0.0</td><td style = \"text-align: right;\">0.0</td><td style = \"text-align: right;\">0.0</td><td style = \"text-align: right;\">0.0</td><td style = \"text-align: right;\">0.0</td><td style = \"text-align: right;\">0.0</td><td style = \"text-align: right;\">0.0</td><td style = \"text-align: right;\">0.0</td><td style = \"text-align: right;\">0.0</td><td style = \"text-align: right;\">0.0</td><td style = \"text-align: right;\">0.0</td><td style = \"text-align: right;\">0.0</td><td style = \"text-align: right;\">0.0</td><td style = \"text-align: right;\">0.0</td><td style = \"text-align: right;\">0.0</td><td style = \"text-align: right;\">0.0</td><td style = \"text-align: right;\">8.43247e-5</td><td style = \"text-align: right;\">0.0</td><td style = \"text-align: right;\">0.0</td><td style = \"text-align: right;\">9.37487e-5</td><td style = \"text-align: right;\">2.84926e-7</td><td style = \"text-align: right;\">0.0</td><td style = \"text-align: right;\">0.0</td><td style = \"text-align: right;\">9.44797e-5</td><td style = \"text-align: right;\">3.15225e-8</td><td style = \"text-align: right;\">0.0</td><td style = \"text-align: right;\">4.10259e-8</td><td style = \"text-align: right;\">0.0</td><td style = \"text-align: right;\">0.0</td><td style = \"text-align: right;\">0.0</td><td style = \"text-align: right;\">0.0</td><td style = \"text-align: right;\">0.0</td><td style = \"text-align: right;\">1.25838e-6</td><td style = \"text-align: right;\">0.0</td><td style = \"text-align: right;\">0.000576635</td></tr><tr><td class = \"rowNumber\" style = \"font-weight: bold; text-align: right;\">84</td><td style = \"text-align: right;\">6.26207e-6</td><td style = \"text-align: right;\">4.48465e-6</td><td style = \"text-align: right;\">0.0</td><td style = \"text-align: right;\">0.0</td><td style = \"text-align: right;\">0.0</td><td style = \"text-align: right;\">0.0</td><td style = \"text-align: right;\">0.0</td><td style = \"text-align: right;\">0.0</td><td style = \"text-align: right;\">0.0</td><td style = \"text-align: right;\">0.0</td><td style = \"text-align: right;\">0.0</td><td style = \"text-align: right;\">0.0</td><td style = \"text-align: right;\">0.0</td><td style = \"text-align: right;\">0.0</td><td style = \"text-align: right;\">0.0</td><td style = \"text-align: right;\">0.0</td><td style = \"text-align: right;\">0.0</td><td style = \"text-align: right;\">0.0</td><td style = \"text-align: right;\">0.0</td><td style = \"text-align: right;\">0.0</td><td style = \"text-align: right;\">0.0</td><td style = \"text-align: right;\">8.39658e-5</td><td style = \"text-align: right;\">0.0</td><td style = \"text-align: right;\">0.0</td><td style = \"text-align: right;\">9.34946e-5</td><td style = \"text-align: right;\">2.8198e-7</td><td style = \"text-align: right;\">0.0</td><td style = \"text-align: right;\">0.0</td><td style = \"text-align: right;\">9.41247e-5</td><td style = \"text-align: right;\">3.11888e-8</td><td style = \"text-align: right;\">0.0</td><td style = \"text-align: right;\">4.05874e-8</td><td style = \"text-align: right;\">0.0</td><td style = \"text-align: right;\">0.0</td><td style = \"text-align: right;\">0.0</td><td style = \"text-align: right;\">0.0</td><td style = \"text-align: right;\">0.0</td><td style = \"text-align: right;\">1.2461e-6</td><td style = \"text-align: right;\">0.0</td><td style = \"text-align: right;\">0.000576645</td></tr><tr><td class = \"rowNumber\" style = \"font-weight: bold; text-align: right;\">85</td><td style = \"text-align: right;\">6.23159e-6</td><td style = \"text-align: right;\">4.45335e-6</td><td style = \"text-align: right;\">0.0</td><td style = \"text-align: right;\">0.0</td><td style = \"text-align: right;\">0.0</td><td style = \"text-align: right;\">0.0</td><td style = \"text-align: right;\">0.0</td><td style = \"text-align: right;\">0.0</td><td style = \"text-align: right;\">0.0</td><td style = \"text-align: right;\">0.0</td><td style = \"text-align: right;\">0.0</td><td style = \"text-align: right;\">0.0</td><td style = \"text-align: right;\">0.0</td><td style = \"text-align: right;\">0.0</td><td style = \"text-align: right;\">0.0</td><td style = \"text-align: right;\">0.0</td><td style = \"text-align: right;\">0.0</td><td style = \"text-align: right;\">0.0</td><td style = \"text-align: right;\">0.0</td><td style = \"text-align: right;\">0.0</td><td style = \"text-align: right;\">0.0</td><td style = \"text-align: right;\">8.36947e-5</td><td style = \"text-align: right;\">0.0</td><td style = \"text-align: right;\">0.0</td><td style = \"text-align: right;\">9.33092e-5</td><td style = \"text-align: right;\">2.79761e-7</td><td style = \"text-align: right;\">0.0</td><td style = \"text-align: right;\">0.0</td><td style = \"text-align: right;\">9.38562e-5</td><td style = \"text-align: right;\">3.09373e-8</td><td style = \"text-align: right;\">0.0</td><td style = \"text-align: right;\">4.02571e-8</td><td style = \"text-align: right;\">0.0</td><td style = \"text-align: right;\">0.0</td><td style = \"text-align: right;\">0.0</td><td style = \"text-align: right;\">0.0</td><td style = \"text-align: right;\">0.0</td><td style = \"text-align: right;\">1.23685e-6</td><td style = \"text-align: right;\">0.0</td><td style = \"text-align: right;\">0.00057668</td></tr><tr><td class = \"rowNumber\" style = \"font-weight: bold; text-align: right;\">86</td><td style = \"text-align: right;\">6.20976e-6</td><td style = \"text-align: right;\">4.43069e-6</td><td style = \"text-align: right;\">0.0</td><td style = \"text-align: right;\">0.0</td><td style = \"text-align: right;\">0.0</td><td style = \"text-align: right;\">0.0</td><td style = \"text-align: right;\">0.0</td><td style = \"text-align: right;\">0.0</td><td style = \"text-align: right;\">0.0</td><td style = \"text-align: right;\">0.0</td><td style = \"text-align: right;\">0.0</td><td style = \"text-align: right;\">0.0</td><td style = \"text-align: right;\">0.0</td><td style = \"text-align: right;\">0.0</td><td style = \"text-align: right;\">0.0</td><td style = \"text-align: right;\">0.0</td><td style = \"text-align: right;\">0.0</td><td style = \"text-align: right;\">0.0</td><td style = \"text-align: right;\">0.0</td><td style = \"text-align: right;\">0.0</td><td style = \"text-align: right;\">0.0</td><td style = \"text-align: right;\">8.3498e-5</td><td style = \"text-align: right;\">0.0</td><td style = \"text-align: right;\">0.0</td><td style = \"text-align: right;\">9.31794e-5</td><td style = \"text-align: right;\">2.78155e-7</td><td style = \"text-align: right;\">0.0</td><td style = \"text-align: right;\">0.0</td><td style = \"text-align: right;\">9.36614e-5</td><td style = \"text-align: right;\">3.07554e-8</td><td style = \"text-align: right;\">0.0</td><td style = \"text-align: right;\">4.0018e-8</td><td style = \"text-align: right;\">0.0</td><td style = \"text-align: right;\">0.0</td><td style = \"text-align: right;\">0.0</td><td style = \"text-align: right;\">0.0</td><td style = \"text-align: right;\">0.0</td><td style = \"text-align: right;\">1.23015e-6</td><td style = \"text-align: right;\">0.0</td><td style = \"text-align: right;\">0.000576723</td></tr><tr><td class = \"rowNumber\" style = \"font-weight: bold; text-align: right;\">87</td><td style = \"text-align: right;\">6.1951e-6</td><td style = \"text-align: right;\">4.41531e-6</td><td style = \"text-align: right;\">0.0</td><td style = \"text-align: right;\">0.0</td><td style = \"text-align: right;\">0.0</td><td style = \"text-align: right;\">0.0</td><td style = \"text-align: right;\">0.0</td><td style = \"text-align: right;\">0.0</td><td style = \"text-align: right;\">0.0</td><td style = \"text-align: right;\">0.0</td><td style = \"text-align: right;\">0.0</td><td style = \"text-align: right;\">0.0</td><td style = \"text-align: right;\">0.0</td><td style = \"text-align: right;\">0.0</td><td style = \"text-align: right;\">0.0</td><td style = \"text-align: right;\">0.0</td><td style = \"text-align: right;\">0.0</td><td style = \"text-align: right;\">0.0</td><td style = \"text-align: right;\">0.0</td><td style = \"text-align: right;\">0.0</td><td style = \"text-align: right;\">0.0</td><td style = \"text-align: right;\">8.33643e-5</td><td style = \"text-align: right;\">0.0</td><td style = \"text-align: right;\">0.0</td><td style = \"text-align: right;\">9.3094e-5</td><td style = \"text-align: right;\">2.77066e-7</td><td style = \"text-align: right;\">0.0</td><td style = \"text-align: right;\">0.0</td><td style = \"text-align: right;\">9.35288e-5</td><td style = \"text-align: right;\">3.0632e-8</td><td style = \"text-align: right;\">0.0</td><td style = \"text-align: right;\">3.98559e-8</td><td style = \"text-align: right;\">0.0</td><td style = \"text-align: right;\">0.0</td><td style = \"text-align: right;\">0.0</td><td style = \"text-align: right;\">0.0</td><td style = \"text-align: right;\">0.0</td><td style = \"text-align: right;\">1.22561e-6</td><td style = \"text-align: right;\">0.0</td><td style = \"text-align: right;\">0.000576763</td></tr><tr><td class = \"rowNumber\" style = \"font-weight: bold; text-align: right;\">88</td><td style = \"text-align: right;\">6.18634e-6</td><td style = \"text-align: right;\">4.40603e-6</td><td style = \"text-align: right;\">0.0</td><td style = \"text-align: right;\">0.0</td><td style = \"text-align: right;\">0.0</td><td style = \"text-align: right;\">0.0</td><td style = \"text-align: right;\">0.0</td><td style = \"text-align: right;\">0.0</td><td style = \"text-align: right;\">0.0</td><td style = \"text-align: right;\">0.0</td><td style = \"text-align: right;\">0.0</td><td style = \"text-align: right;\">0.0</td><td style = \"text-align: right;\">0.0</td><td style = \"text-align: right;\">0.0</td><td style = \"text-align: right;\">0.0</td><td style = \"text-align: right;\">0.0</td><td style = \"text-align: right;\">0.0</td><td style = \"text-align: right;\">0.0</td><td style = \"text-align: right;\">0.0</td><td style = \"text-align: right;\">0.0</td><td style = \"text-align: right;\">0.0</td><td style = \"text-align: right;\">8.32835e-5</td><td style = \"text-align: right;\">0.0</td><td style = \"text-align: right;\">0.0</td><td style = \"text-align: right;\">9.30441e-5</td><td style = \"text-align: right;\">2.76408e-7</td><td style = \"text-align: right;\">0.0</td><td style = \"text-align: right;\">0.0</td><td style = \"text-align: right;\">9.34486e-5</td><td style = \"text-align: right;\">3.05575e-8</td><td style = \"text-align: right;\">0.0</td><td style = \"text-align: right;\">3.9758e-8</td><td style = \"text-align: right;\">0.0</td><td style = \"text-align: right;\">0.0</td><td style = \"text-align: right;\">0.0</td><td style = \"text-align: right;\">0.0</td><td style = \"text-align: right;\">0.0</td><td style = \"text-align: right;\">1.22286e-6</td><td style = \"text-align: right;\">0.0</td><td style = \"text-align: right;\">0.000576794</td></tr><tr><td class = \"rowNumber\" style = \"font-weight: bold; text-align: right;\">89</td><td style = \"text-align: right;\">6.18241e-6</td><td style = \"text-align: right;\">4.40182e-6</td><td style = \"text-align: right;\">0.0</td><td style = \"text-align: right;\">0.0</td><td style = \"text-align: right;\">0.0</td><td style = \"text-align: right;\">0.0</td><td style = \"text-align: right;\">0.0</td><td style = \"text-align: right;\">0.0</td><td style = \"text-align: right;\">0.0</td><td style = \"text-align: right;\">0.0</td><td style = \"text-align: right;\">0.0</td><td style = \"text-align: right;\">0.0</td><td style = \"text-align: right;\">0.0</td><td style = \"text-align: right;\">0.0</td><td style = \"text-align: right;\">0.0</td><td style = \"text-align: right;\">0.0</td><td style = \"text-align: right;\">0.0</td><td style = \"text-align: right;\">0.0</td><td style = \"text-align: right;\">0.0</td><td style = \"text-align: right;\">0.0</td><td style = \"text-align: right;\">0.0</td><td style = \"text-align: right;\">8.32468e-5</td><td style = \"text-align: right;\">0.0</td><td style = \"text-align: right;\">0.0</td><td style = \"text-align: right;\">9.30221e-5</td><td style = \"text-align: right;\">2.7611e-7</td><td style = \"text-align: right;\">0.0</td><td style = \"text-align: right;\">0.0</td><td style = \"text-align: right;\">9.34122e-5</td><td style = \"text-align: right;\">3.05237e-8</td><td style = \"text-align: right;\">0.0</td><td style = \"text-align: right;\">3.97137e-8</td><td style = \"text-align: right;\">0.0</td><td style = \"text-align: right;\">0.0</td><td style = \"text-align: right;\">0.0</td><td style = \"text-align: right;\">0.0</td><td style = \"text-align: right;\">0.0</td><td style = \"text-align: right;\">1.22162e-6</td><td style = \"text-align: right;\">0.0</td><td style = \"text-align: right;\">0.00057681</td></tr></tbody></table></div>"
      ],
      "text/latex": [
       "\\begin{tabular}{r|cccccccccc}\n",
       "\t& x1 & x2 & x3 & x4 & x5 & x6 & x7 & x8 & x9 & \\\\\n",
       "\t\\hline\n",
       "\t& Float64 & Float64 & Float64 & Float64 & Float64 & Float64 & Float64 & Float64 & Float64 & \\\\\n",
       "\t\\hline\n",
       "\t1 & 5.69261e-8 & 0.114639 & 0.0 & 0.0 & 0.0 & 0.0 & 0.0 & 0.0 & 0.0 & $\\dots$ \\\\\n",
       "\t2 & 5.81055e-8 & 0.114529 & 0.0 & 0.0 & 0.0 & 0.0 & 0.0 & 0.0 & 0.0 & $\\dots$ \\\\\n",
       "\t3 & 6.26791e-8 & 0.114248 & 0.0 & 0.0 & 0.0 & 0.0 & 0.0 & 0.0 & 0.0 & $\\dots$ \\\\\n",
       "\t4 & 7.59956e-8 & 0.113749 & 0.0 & 0.0 & 0.0 & 0.0 & 0.0 & 0.0 & 0.0 & $\\dots$ \\\\\n",
       "\t5 & 1.10707e-7 & 0.113008 & 0.0 & 0.0 & 0.0 & 0.0 & 0.0 & 0.0 & 0.0 & $\\dots$ \\\\\n",
       "\t6 & 1.97029e-7 & 0.112011 & 0.0 & 0.0 & 0.0 & 0.0 & 0.0 & 0.0 & 0.0 & $\\dots$ \\\\\n",
       "\t7 & 4.09474e-7 & 0.110724 & 0.0 & 0.0 & 0.0 & 0.0 & 0.0 & 0.0 & 0.0 & $\\dots$ \\\\\n",
       "\t8 & 9.38969e-7 & 0.108958 & 0.0 & 0.0 & 0.0 & 0.0 & 0.0 & 0.0 & 0.0 & $\\dots$ \\\\\n",
       "\t9 & 2.29315e-6 & 0.105795 & 0.0 & 0.0 & 0.0 & 0.0 & 0.0 & 0.0 & 0.0 & $\\dots$ \\\\\n",
       "\t10 & 5.88691e-6 & 0.0987261 & 0.0 & 0.0 & 0.0 & 0.0 & 0.0 & 0.0 & 0.0 & $\\dots$ \\\\\n",
       "\t11 & 1.59516e-5 & 0.0854196 & 0.0 & 0.0 & 0.0 & 0.0 & 0.0 & 0.0 & 0.0 & $\\dots$ \\\\\n",
       "\t12 & 4.60226e-5 & 0.0688119 & 0.0 & 0.0 & 0.0 & 0.0 & 0.0 & 0.0 & 0.0 & $\\dots$ \\\\\n",
       "\t13 & 0.000140504 & 0.055666 & 0.0 & 0.0 & 0.0 & 0.0 & 0.0 & 0.0 & 0.0 & $\\dots$ \\\\\n",
       "\t14 & 0.000422851 & 0.0468433 & 0.0 & 0.0 & 0.0 & 0.0 & 0.0 & 0.0 & 0.0 & $\\dots$ \\\\\n",
       "\t15 & 0.00112609 & 0.0391258 & 0.0 & 0.0 & 0.0 & 0.0 & 0.0 & 0.0 & 0.0 & $\\dots$ \\\\\n",
       "\t16 & 0.00249926 & 0.0312997 & 0.0 & 0.0 & 0.0 & 0.0 & 0.0 & 0.0 & 0.0 & $\\dots$ \\\\\n",
       "\t17 & 0.00460304 & 0.024285 & 0.0 & 0.0 & 0.0 & 0.0 & 0.0 & 0.0 & 0.0 & $\\dots$ \\\\\n",
       "\t18 & 0.00721925 & 0.0187345 & 0.0 & 0.0 & 0.0 & 0.0 & 0.0 & 0.0 & 0.0 & $\\dots$ \\\\\n",
       "\t19 & 0.00996919 & 0.0146602 & 0.0 & 0.0 & 0.0 & 0.0 & 0.0 & 0.0 & 0.0 & $\\dots$ \\\\\n",
       "\t20 & 0.0124981 & 0.0117936 & 0.0 & 0.0 & 0.0 & 0.0 & 0.0 & 0.0 & 0.0 & $\\dots$ \\\\\n",
       "\t21 & 0.0145807 & 0.00982194 & 0.0 & 0.0 & 0.0 & 0.0 & 0.0 & 0.0 & 0.0 & $\\dots$ \\\\\n",
       "\t22 & 0.0161273 & 0.00847576 & 0.0 & 0.0 & 0.0 & 0.0 & 0.0 & 0.0 & 0.0 & $\\dots$ \\\\\n",
       "\t23 & 0.0171414 & 0.00754642 & 0.0 & 0.0 & 0.0 & 0.0 & 0.0 & 0.0 & 0.0 & $\\dots$ \\\\\n",
       "\t24 & 0.0176712 & 0.00688033 & 0.0 & 0.0 & 0.0 & 0.0 & 0.0 & 0.0 & 0.0 & $\\dots$ \\\\\n",
       "\t$\\dots$ & $\\dots$ & $\\dots$ & $\\dots$ & $\\dots$ & $\\dots$ & $\\dots$ & $\\dots$ & $\\dots$ & $\\dots$ &  \\\\\n",
       "\\end{tabular}\n"
      ],
      "text/plain": [
       "\u001b[1m89×40 DataFrame\u001b[0m\n",
       "\u001b[1m Row \u001b[0m│\u001b[1m x1         \u001b[0m\u001b[1m x2         \u001b[0m\u001b[1m x3      \u001b[0m\u001b[1m x4      \u001b[0m\u001b[1m x5      \u001b[0m\u001b[1m x6      \u001b[0m\u001b[1m x7      \u001b[0m\u001b[1m x8\u001b[0m ⋯\n",
       "     │\u001b[90m Float64    \u001b[0m\u001b[90m Float64    \u001b[0m\u001b[90m Float64 \u001b[0m\u001b[90m Float64 \u001b[0m\u001b[90m Float64 \u001b[0m\u001b[90m Float64 \u001b[0m\u001b[90m Float64 \u001b[0m\u001b[90m Fl\u001b[0m ⋯\n",
       "─────┼──────────────────────────────────────────────────────────────────────────\n",
       "   1 │ 5.69261e-8  0.114639        0.0      0.0      0.0      0.0      0.0     ⋯\n",
       "   2 │ 5.81055e-8  0.114529        0.0      0.0      0.0      0.0      0.0\n",
       "   3 │ 6.26791e-8  0.114248        0.0      0.0      0.0      0.0      0.0\n",
       "   4 │ 7.59956e-8  0.113749        0.0      0.0      0.0      0.0      0.0\n",
       "   5 │ 1.10707e-7  0.113008        0.0      0.0      0.0      0.0      0.0     ⋯\n",
       "   6 │ 1.97029e-7  0.112011        0.0      0.0      0.0      0.0      0.0\n",
       "   7 │ 4.09474e-7  0.110724        0.0      0.0      0.0      0.0      0.0\n",
       "   8 │ 9.38969e-7  0.108958        0.0      0.0      0.0      0.0      0.0\n",
       "  ⋮  │     ⋮           ⋮          ⋮        ⋮        ⋮        ⋮        ⋮        ⋱\n",
       "  83 │ 6.30297e-6  4.52618e-6      0.0      0.0      0.0      0.0      0.0     ⋯\n",
       "  84 │ 6.26207e-6  4.48465e-6      0.0      0.0      0.0      0.0      0.0\n",
       "  85 │ 6.23159e-6  4.45335e-6      0.0      0.0      0.0      0.0      0.0\n",
       "  86 │ 6.20976e-6  4.43069e-6      0.0      0.0      0.0      0.0      0.0\n",
       "  87 │ 6.1951e-6   4.41531e-6      0.0      0.0      0.0      0.0      0.0     ⋯\n",
       "  88 │ 6.18634e-6  4.40603e-6      0.0      0.0      0.0      0.0      0.0\n",
       "  89 │ 6.18241e-6  4.40182e-6      0.0      0.0      0.0      0.0      0.0\n",
       "\u001b[36m                                                  33 columns and 74 rows omitted\u001b[0m"
      ]
     },
     "metadata": {},
     "output_type": "display_data"
    }
   ],
   "source": [
    "p_df = DataFrame(p, :auto)\n",
    "z_df = DataFrame(z, :auto)\n",
    "b_df = DataFrame(b, :auto)"
   ]
  },
  {
   "cell_type": "code",
   "execution_count": 104,
   "metadata": {},
   "outputs": [
    {
     "data": {
      "text/plain": [
       "\"/home/lee/Dropbox/Development/SPOT_data/data/model_data/out_30y_20230701_1718_SUMZ.csv\""
      ]
     },
     "metadata": {},
     "output_type": "display_data"
    }
   ],
   "source": [
    "using CSV\n",
    "\n",
    "CSV.write(\"/home/lee/Dropbox/Development/SPOT_data/data/model_data/out_30y_20230701_1718_SUMP.csv\", p_df)\n",
    "CSV.write(\"/home/lee/Dropbox/Development/SPOT_data/data/model_data/out_30y_20230701_1718_SUMB.csv\", b_df)\n",
    "CSV.write(\"/home/lee/Dropbox/Development/SPOT_data/data/model_data/out_30y_20230701_1718_SUMZ.csv\", z_df)"
   ]
  },
  {
   "cell_type": "code",
   "execution_count": 38,
   "metadata": {},
   "outputs": [
    {
     "ename": "MethodError",
     "evalue": "MethodError: no method matching getindex(::typeof(sum), ::String)",
     "output_type": "error",
     "traceback": [
      "MethodError: no method matching getindex(::typeof(sum), ::String)\n",
      "\n",
      "Stacktrace:\n",
      " [1] get_endpoints(ds::Function, vars::Vector{String})\n",
      "   @ Main ~/Dropbox/Development/NPZBD_1D/notebooks/diversity.ipynb:6\n",
      " [2] top-level scope\n",
      "   @ ~/Dropbox/Development/NPZBD_1D/notebooks/diversity.ipynb:1"
     ]
    }
   ],
   "source": [
    "n, p, z, b, d, o = get_endpoints(sum, [\"n\", \"p\", \"z\", \"b\", \"d\", \"o\"])\n",
    "\n",
    "p[p .< cut_off] .= 0\n",
    "z[z .< cut_off] .= 0\n",
    "b[b .< cut_off] .= 0\n",
    "\n",
    "p_df = DataFrame(p, :auto)\n",
    "z_df = DataFrame(z, :auto)\n",
    "b_df = DataFrame(b, :auto)"
   ]
  },
  {
   "cell_type": "code",
   "execution_count": 39,
   "metadata": {},
   "outputs": [
    {
     "data": {
      "text/plain": [
       "\"/home/lee/Dropbox/Development/SPOT_data/data/model_data/out_10y_20230630_1700_SUMZ.csv\""
      ]
     },
     "metadata": {},
     "output_type": "display_data"
    }
   ],
   "source": [
    "\n",
    "CSV.write(\"/home/lee/Dropbox/Development/SPOT_data/data/model_data/out_10y_20230630_1700_SUMP.csv\", p_df)\n",
    "CSV.write(\"/home/lee/Dropbox/Development/SPOT_data/data/model_data/out_10y_20230630_1700_SUMB.csv\", b_df)\n",
    "CSV.write(\"/home/lee/Dropbox/Development/SPOT_data/data/model_data/out_10y_20230630_1700_SUMZ.csv\", z_df)"
   ]
  },
  {
   "cell_type": "code",
   "execution_count": 1,
   "metadata": {},
   "outputs": [
    {
     "data": {
      "text/plain": [
       "\u001b[31mDataset: /home/lee/Dropbox/Development/NPZBD_1D/results/outfiles/out_30y_20230704_0320.nc\u001b[39m\n",
       "Group: /\n",
       "\n",
       "\u001b[31mDimensions\u001b[39m\n",
       "   np = 6\n",
       "   nb = 10\n",
       "   nz = 3\n",
       "   nn = 1\n",
       "   nd = 4\n",
       "   ndepth = 89\n",
       "   ndepth1 = 90\n",
       "   nrec = 219601\n",
       "   nprey = 16\n",
       "\n",
       "\u001b[31mVariables\u001b[39m\n",
       "\u001b[32m  p\u001b[39m   (89 × 6 × 219601)\n",
       "    Datatype:    \u001b[0m\u001b[1mFloat64\u001b[22m (Float64)\n",
       "    Dimensions:  ndepth × np × nrec\n",
       "    Attributes:\n",
       "     units                = \u001b[36mmmol/m3 C biomass\u001b[39m\n",
       "\n",
       "\u001b[32m  b\u001b[39m   (89 × 10 × 219601)\n",
       "    Datatype:    \u001b[0m\u001b[1mFloat64\u001b[22m (Float64)\n",
       "    Dimensions:  ndepth × nb × nrec\n",
       "    Attributes:\n",
       "     units                = \u001b[36mmmol/m3 C biomass\u001b[39m\n",
       "\n",
       "\u001b[32m  z\u001b[39m   (89 × 3 × 219601)\n",
       "    Datatype:    \u001b[0m\u001b[1mFloat64\u001b[22m (Float64)\n",
       "    Dimensions:  ndepth × nz × nrec\n",
       "    Attributes:\n",
       "     units                = \u001b[36mmmol/m3 C biomass\u001b[39m\n",
       "\n",
       "\u001b[32m  n\u001b[39m   (89 × 1 × 219601)\n",
       "    Datatype:    \u001b[0m\u001b[1mFloat64\u001b[22m (Float64)\n",
       "    Dimensions:  ndepth × nn × nrec\n",
       "    Attributes:\n",
       "     units                = \u001b[36mmmol/m3 C OM\u001b[39m\n",
       "\n",
       "\u001b[32m  d\u001b[39m   (89 × 4 × 219601)\n",
       "    Datatype:    \u001b[0m\u001b[1mFloat64\u001b[22m (Float64)\n",
       "    Dimensions:  ndepth × nd × nrec\n",
       "    Attributes:\n",
       "     units                = \u001b[36mmmol/m3 C OM\u001b[39m\n",
       "\n",
       "\u001b[32m  o\u001b[39m   (89 × 219601)\n",
       "    Datatype:    \u001b[0m\u001b[1mFloat64\u001b[22m (Float64)\n",
       "    Dimensions:  ndepth × nrec\n",
       "    Attributes:\n",
       "     units                = \u001b[36mmmol/m3 O2\u001b[39m\n",
       "\n",
       "\u001b[32m  pIC\u001b[39m   (89 × 6)\n",
       "    Datatype:    \u001b[0m\u001b[1mFloat64\u001b[22m (Float64)\n",
       "    Dimensions:  ndepth × np\n",
       "    Attributes:\n",
       "     units                = \u001b[36mmmol/m3 C biomass\u001b[39m\n",
       "\n",
       "\u001b[32m  bIC\u001b[39m   (89 × 10)\n",
       "    Datatype:    \u001b[0m\u001b[1mFloat64\u001b[22m (Float64)\n",
       "    Dimensions:  ndepth × nb\n",
       "    Attributes:\n",
       "     units                = \u001b[36mmmol/m3 C biomass\u001b[39m\n",
       "\n",
       "\u001b[32m  zIC\u001b[39m   (89 × 3)\n",
       "    Datatype:    \u001b[0m\u001b[1mFloat64\u001b[22m (Float64)\n",
       "    Dimensions:  ndepth × nz\n",
       "    Attributes:\n",
       "     units                = \u001b[36mmmol/m3 C biomass\u001b[39m\n",
       "\n",
       "\u001b[32m  nIC\u001b[39m   (89 × 1)\n",
       "    Datatype:    \u001b[0m\u001b[1mFloat64\u001b[22m (Float64)\n",
       "    Dimensions:  ndepth × nn\n",
       "    Attributes:\n",
       "     units                = \u001b[36mmmol/m3 C OM\u001b[39m\n",
       "\n",
       "\u001b[32m  dIC\u001b[39m   (89 × 4)\n",
       "    Datatype:    \u001b[0m\u001b[1mFloat64\u001b[22m (Float64)\n",
       "    Dimensions:  ndepth × nd\n",
       "    Attributes:\n",
       "     units                = \u001b[36mmmol/m3 C OM\u001b[39m\n",
       "\n",
       "\u001b[32m  timet\u001b[39m   (219601)\n",
       "    Datatype:    \u001b[0m\u001b[1mFloat64\u001b[22m (Float64)\n",
       "    Dimensions:  nrec\n",
       "    Attributes:\n",
       "     units                = \u001b[36mdays\u001b[39m\n",
       "\n",
       "\u001b[32m  H\u001b[39m  \n",
       "    Attributes:\n",
       "     units                = \u001b[36mm; total height\u001b[39m\n",
       "\n",
       "\u001b[32m  dz\u001b[39m  \n",
       "    Attributes:\n",
       "     units                = \u001b[36mm; box height\u001b[39m\n",
       "\n",
       "\u001b[32m  kappa_z\u001b[39m   (90)\n",
       "    Datatype:    \u001b[0m\u001b[1mFloat64\u001b[22m (Float64)\n",
       "    Dimensions:  ndepth1\n",
       "    Attributes:\n",
       "     units                = \u001b[36mvertical water velocity\u001b[39m\n",
       "\n",
       "\u001b[32m  wd\u001b[39m   (90 × 4)\n",
       "    Datatype:    \u001b[0m\u001b[1mFloat64\u001b[22m (Float64)\n",
       "    Dimensions:  ndepth1 × nd\n",
       "    Attributes:\n",
       "     units                = \u001b[36msinking rate\u001b[39m\n",
       "\n",
       "\u001b[32m  uptake\u001b[39m   (4 × 10)\n",
       "    Datatype:    \u001b[0m\u001b[1mFloat64\u001b[22m (Float64)\n",
       "    Dimensions:  nd × nb\n",
       "    Attributes:\n",
       "     units                = \u001b[36mmmol/m3 C per d; uptake matrix\u001b[39m\n",
       "\n",
       "\u001b[32m  SW\u001b[39m   (4)\n",
       "    Datatype:    \u001b[0m\u001b[1mFloat64\u001b[22m (Float64)\n",
       "    Dimensions:  nd\n",
       "    Attributes:\n",
       "     units                = \u001b[36mInd C supply weight: probability\u001b[39m\n",
       "\n",
       "\u001b[32m  pen\u001b[39m   (10)\n",
       "    Datatype:    \u001b[0m\u001b[1mFloat64\u001b[22m (Float64)\n",
       "    Dimensions:  nb\n",
       "    Attributes:\n",
       "     units                = \u001b[36mpenalty\u001b[39m\n",
       "\n",
       "\u001b[32m  umax_i\u001b[39m   (6)\n",
       "    Datatype:    \u001b[0m\u001b[1mFloat64\u001b[22m (Float64)\n",
       "    Dimensions:  np\n",
       "    Attributes:\n",
       "     units                = \u001b[36mm3/mmol/d; max growth rate of p\u001b[39m\n",
       "\n",
       "\u001b[32m  umax_ij\u001b[39m   (1 × 6)\n",
       "    Datatype:    \u001b[0m\u001b[1mFloat64\u001b[22m (Float64)\n",
       "    Dimensions:  nn × np\n",
       "    Attributes:\n",
       "     units                = \u001b[36mper n; max uptake rate\u001b[39m\n",
       "\n",
       "\u001b[32m  Kp_ij\u001b[39m   (1 × 6)\n",
       "    Datatype:    \u001b[0m\u001b[1mFloat64\u001b[22m (Float64)\n",
       "    Dimensions:  nn × np\n",
       "    Attributes:\n",
       "     units                = \u001b[36mmmol/m3; half-sat\u001b[39m\n",
       "\n",
       "\u001b[32m  CM\u001b[39m   (4 × 10)\n",
       "    Datatype:    \u001b[0m\u001b[1mFloat64\u001b[22m (Float64)\n",
       "    Dimensions:  nd × nb\n",
       "    Attributes:\n",
       "     units                = \u001b[36mConsumption Matrix (nb x nd)\u001b[39m\n",
       "\n",
       "\u001b[32m  CMp\u001b[39m   (1 × 6)\n",
       "    Datatype:    \u001b[0m\u001b[1mFloat64\u001b[22m (Float64)\n",
       "    Dimensions:  nn × np\n",
       "    Attributes:\n",
       "     units                = \u001b[36mConsumption Matrix (np x nn)\u001b[39m\n",
       "\n",
       "\u001b[32m  GrM\u001b[39m   (3 × 16)\n",
       "    Datatype:    \u001b[0m\u001b[1mFloat64\u001b[22m (Float64)\n",
       "    Dimensions:  nz × nprey\n",
       "    Attributes:\n",
       "     units                = \u001b[36mGrazing Matrix\u001b[39m\n",
       "\n",
       "\u001b[32m  y_ij\u001b[39m   (4 × 10)\n",
       "    Datatype:    \u001b[0m\u001b[1mFloat64\u001b[22m (Float64)\n",
       "    Dimensions:  nd × nb\n",
       "    Attributes:\n",
       "     units                = \u001b[36mper d; max yield rate\u001b[39m\n",
       "\n",
       "\u001b[32m  vmax_i\u001b[39m   (4)\n",
       "    Datatype:    \u001b[0m\u001b[1mFloat64\u001b[22m (Float64)\n",
       "    Dimensions:  nd\n",
       "    Attributes:\n",
       "     units                = \u001b[36mper d; max uptake rate\u001b[39m\n",
       "\n",
       "\u001b[32m  vmax_ij\u001b[39m   (4 × 10)\n",
       "    Datatype:    \u001b[0m\u001b[1mFloat64\u001b[22m (Float64)\n",
       "    Dimensions:  nd × nb\n",
       "    Attributes:\n",
       "     units                = \u001b[36mper d; max uptake rate\u001b[39m\n",
       "\n",
       "\u001b[32m  Km_ij\u001b[39m   (4 × 10)\n",
       "    Datatype:    \u001b[0m\u001b[1mFloat64\u001b[22m (Float64)\n",
       "    Dimensions:  nd × nb\n",
       "    Attributes:\n",
       "     units                = \u001b[36mmmol/m3; half-sat\u001b[39m\n",
       "\n",
       "\u001b[32m  m_lb\u001b[39m   (10)\n",
       "    Datatype:    \u001b[0m\u001b[1mFloat64\u001b[22m (Float64)\n",
       "    Dimensions:  nb\n",
       "    Attributes:\n",
       "     units                = \u001b[36mm3/mmol; linear death rate of b\u001b[39m\n",
       "\n",
       "\u001b[32m  m_qb\u001b[39m   (10)\n",
       "    Datatype:    \u001b[0m\u001b[1mFloat64\u001b[22m (Float64)\n",
       "    Dimensions:  nb\n",
       "    Attributes:\n",
       "     units                = \u001b[36mm3/mmol; quadratic death rate of b\u001b[39m\n",
       "\n",
       "\u001b[32m  K_g\u001b[39m   (3)\n",
       "    Datatype:    \u001b[0m\u001b[1mFloat64\u001b[22m (Float64)\n",
       "    Dimensions:  nz\n",
       "    Attributes:\n",
       "     units                = \u001b[36mm3/mmol; half-sat rate of z\u001b[39m\n",
       "\n",
       "\u001b[32m  γ\u001b[39m   (3)\n",
       "    Datatype:    \u001b[0m\u001b[1mFloat64\u001b[22m (Float64)\n",
       "    Dimensions:  nz\n",
       "    Attributes:\n",
       "     units                = \u001b[36mfraction of digestion of z\u001b[39m\n",
       "\n",
       "\u001b[32m  m_lz\u001b[39m   (3)\n",
       "    Datatype:    \u001b[0m\u001b[1mFloat64\u001b[22m (Float64)\n",
       "    Dimensions:  nz\n",
       "    Attributes:\n",
       "     units                = \u001b[36mm3/mmol; linear death rate of z\u001b[39m\n",
       "\n",
       "\u001b[32m  m_qz\u001b[39m   (3)\n",
       "    Datatype:    \u001b[0m\u001b[1mFloat64\u001b[22m (Float64)\n",
       "    Dimensions:  nz\n",
       "    Attributes:\n",
       "     units                = \u001b[36mm3/mmol; quadratic death rate of z\u001b[39m\n",
       "\n",
       "\u001b[31mGlobal attributes\u001b[39m\n",
       "  title                = \u001b[36mNPZBD 0D model i/o\u001b[39m\n",
       "  Start time           = \u001b[36m2023-07-04T03:21:05.831\u001b[39m\n",
       "  End time             = \u001b[36m2023-07-04T03:34:05.793\u001b[39m\n",
       "  Run time             = \u001b[36m779962 milliseconds\u001b[39m\n",
       "  Season               = \u001b[36msummer\u001b[39m\n"
      ]
     },
     "metadata": {},
     "output_type": "display_data"
    }
   ],
   "source": [
    "using NCDatasets\n",
    "\n",
    "ds1 = NCDataset(\"/home/lee/Dropbox/Development/NPZBD_1D/results/outfiles/out_30y_20230704_0110.nc\")\n",
    "ds2 = NCDataset(\"/home/lee/Dropbox/Development/NPZBD_1D/results/outfiles/out_30y_20230704_0212.nc\")\n",
    "ds3 = NCDataset(\"/home/lee/Dropbox/Development/NPZBD_1D/results/outfiles/out_30y_20230704_0228.nc\")\n",
    "ds4 = NCDataset(\"/home/lee/Dropbox/Development/NPZBD_1D/results/outfiles/out_30y_20230704_0320.nc\")\n"
   ]
  },
  {
   "cell_type": "code",
   "execution_count": 2,
   "metadata": {},
   "outputs": [
    {
     "data": {
      "text/plain": [
       "get_endpoints (generic function with 1 method)"
      ]
     },
     "metadata": {},
     "output_type": "display_data"
    }
   ],
   "source": [
    "function get_size(arr)\n",
    "\n",
    "    out = Vector{Int}()\n",
    "    \n",
    "    for a in arr\n",
    "        append!(out, size(a, 2))\n",
    "    end\n",
    "\n",
    "    return out\n",
    "\n",
    "end\n",
    "\n",
    "\n",
    "function get_endpoints(ds, vars)\n",
    "\n",
    "    out = Vector{Any}()\n",
    "\n",
    "    for v in vars\n",
    "        append!(out, [ds[\"$v\"][:,:,end]])\n",
    "    end\n",
    "\n",
    "    return out[1], out[2], out[3]\n",
    "\n",
    "end\n"
   ]
  },
  {
   "cell_type": "code",
   "execution_count": 65,
   "metadata": {},
   "outputs": [
    {
     "data": {
      "text/plain": [
       "plot_stacked (generic function with 1 method)"
      ]
     },
     "metadata": {},
     "output_type": "display_data"
    }
   ],
   "source": [
    "using LaTeXStrings\n",
    "\n",
    "function plot_stacked(ds1, ds2, ds3, ds4)\n",
    "\n",
    "    p1, z1, b1= get_endpoints(ds1, [\"p\", \"z\", \"b\"])\n",
    "    p2, z2, b2= get_endpoints(ds2, [\"p\", \"z\", \"b\"])\n",
    "    p3, z3, b3= get_endpoints(ds3, [\"p\", \"z\", \"b\"])\n",
    "    p4, z4, b4= get_endpoints(ds4, [\"p\", \"z\", \"b\"])\n",
    "\n",
    "    H = ds1[\"H\"][:]\n",
    "    dz = ds1[\"dz\"][:]\n",
    "    zc = [dz/2:dz:(H-dz/2)]\n",
    "\n",
    "    pp1 = plot(sum(p1, dims = 2), -zc, lc=\"green\", grid=false, xrotation=45, label=\"\")\n",
    "    plot!(sum(b1, dims = 2), -zc, lc=\"blue\", label=\"\") \n",
    "    plot!(sum(z1, dims = 2), -zc, lc=\"black\", label=\"\") \n",
    "\n",
    "    pp2 = plot(sum(p2, dims = 2), -zc, lc=\"green\", grid=false, xrotation=45, label=\"\")\n",
    "    plot!(sum(b2, dims = 2), -zc, lc=\"blue\", label=\"\") \n",
    "    plot!(sum(z2, dims = 2), -zc, lc=\"black\", label=\"\") \n",
    "\n",
    "    pp3 = plot(sum(p3, dims = 2), -zc, lc=\"green\", grid=false, xrotation=45, label=\"\")\n",
    "    plot!(sum(b3, dims = 2), -zc, lc=\"blue\", label=\"\") \n",
    "    plot!(sum(z3, dims = 2), -zc, lc=\"black\", label=\"\") \n",
    "\n",
    "    pp4 = plot(sum(p4, dims = 2), -zc, lc=\"green\", grid=false, xrotation=45, label=\"Total P\")\n",
    "    plot!(sum(b4, dims = 2), -zc, lc=\"blue\", label=\"Total B\") \n",
    "    plot!(sum(z4, dims = 2), -zc, lc=\"black\", label=\"Total Z\", right_margin = 12Plots.mm) \n",
    "\n",
    "    f1 = plot(pp1, pp2, pp3, pp4,\n",
    "        linewidth = 2,\n",
    "        xlimits=(0,4),\n",
    "        layout = [1 1 1 1],\n",
    "        title = [L\"         MLD$:30m$, T${\\uparrow}$\" L\"         MLD$:15m$, T${\\uparrow}$\" L\"         MLD$:30m$, T${\\downarrow}$\" L\"         MLD$:15m$, T${\\downarrow}$\"],\n",
    "        titlefontsize = 14,\n",
    "        size = (700,500),\n",
    "        fg_legend = :transparent,\n",
    "        legendfontsize=12,\n",
    "        legend=:bottomright,\n",
    "        # plot_title = \"Mixed-Layer Depth vs. Temperature  \",\n",
    "    )\n",
    "\n",
    "    savefig(f1,\"/home/lee/Dropbox/Development/NPZBD_1D/results/plots/temp_mlz_test/temp_mlz_compared.png\")\n",
    "\n",
    "end"
   ]
  },
  {
   "cell_type": "code",
   "execution_count": 66,
   "metadata": {},
   "outputs": [
    {
     "data": {
      "text/plain": [
       "\"/home/lee/Dropbox/Development/NPZBD_1D/results/plots/temp_mlz_test/temp_mlz_compared.png\""
      ]
     },
     "metadata": {},
     "output_type": "display_data"
    }
   ],
   "source": [
    "using Plots\n",
    "\n",
    "plot_stacked(ds1, ds2, ds3, ds4)"
   ]
  },
  {
   "cell_type": "code",
   "execution_count": 184,
   "metadata": {},
   "outputs": [
    {
     "data": {
      "text/plain": [
       "([2.699588894773338e-305 0.42326432365614164 … 0.4893664402863552 0.010943474977941969; 2.6973319105403356e-305 0.4227798973114574 … 0.4886510207906815 0.01098329515910067; … ; 2.224601526069697e-305 7.289321027442098e-20 … 1.4098061297577955e-20 1.5985276155207986e-19; 2.2233078475789108e-305 7.198252159796529e-20 … 1.3921927747050722e-20 1.5785559749714116e-19], [0.052679419345767094 0.15321495054310885 0.08573680393174228; 0.05267054372872172 0.1531776860831443 0.0857210904408298; … ; 1.7021702143408572e-6 9.617658971548567e-8 8.277884861465891e-7; 1.700108331469202e-6 9.606005754921469e-8 8.267480949835681e-7], [0.061147031297533835 0.1750980191118458 … 9.467019544487482e-39 0.41353184027931533; 0.06115962355858097 0.17480753185240958 … 9.8350693196753e-39 0.41318529203353693; … ; 8.002080992527474e-6 7.860009674922143e-6 … 3.308700378924654e-27 0.00016433612516267906; 8.003361739066726e-6 7.85292577680669e-6 … 3.3088805486430626e-27 0.00016428494467226956])"
      ]
     },
     "metadata": {},
     "output_type": "display_data"
    }
   ],
   "source": [
    "p1, z1, b1= get_endpoints(ds1, [\"p\", \"z\", \"b\"])\n",
    "p2, z2, b2= get_endpoints(ds2, [\"p\", \"z\", \"b\"])\n",
    "p3, z3, b3= get_endpoints(ds3, [\"p\", \"z\", \"b\"])\n",
    "p4, z4, b4= get_endpoints(ds4, [\"p\", \"z\", \"b\"])"
   ]
  },
  {
   "cell_type": "code",
   "execution_count": 179,
   "metadata": {},
   "outputs": [
    {
     "data": {
      "text/plain": [
       "88.289940450649"
      ]
     },
     "metadata": {},
     "output_type": "display_data"
    }
   ],
   "source": [
    "sum(sum(p1, dims = 2) + sum(b1, dims = 2)+sum(z1, dims = 2))"
   ]
  },
  {
   "cell_type": "code",
   "execution_count": 180,
   "metadata": {},
   "outputs": [
    {
     "data": {
      "text/plain": [
       "56.14116785251175"
      ]
     },
     "metadata": {},
     "output_type": "display_data"
    }
   ],
   "source": [
    "sum(sum(p2, dims = 2) + sum(b2, dims = 2)+sum(z2, dims = 2))"
   ]
  },
  {
   "cell_type": "code",
   "execution_count": 181,
   "metadata": {},
   "outputs": [
    {
     "data": {
      "text/plain": [
       "84.89728268215904"
      ]
     },
     "metadata": {},
     "output_type": "display_data"
    }
   ],
   "source": [
    "sum(sum(p3, dims = 2) + sum(b3, dims = 2)+sum(z3, dims = 2))"
   ]
  },
  {
   "cell_type": "code",
   "execution_count": 185,
   "metadata": {},
   "outputs": [
    {
     "data": {
      "text/plain": [
       "34.03253570627525"
      ]
     },
     "metadata": {},
     "output_type": "display_data"
    }
   ],
   "source": [
    "sum(sum(p4, dims = 2) + sum(b4, dims = 2)+sum(z4, dims = 2))"
   ]
  },
  {
   "cell_type": "code",
   "execution_count": 2,
   "metadata": {},
   "outputs": [],
   "source": [
    "# calculate NPP and respiration in ther model - how does ratio of NPP to respiration change as a consequence of MLD and temp etc?\n",
    "\n",
    "# interesting - bacteria and iron competing for elements \n",
    "\n",
    "# 17th 3pm meet emily\n"
   ]
  },
  {
   "cell_type": "code",
   "execution_count": null,
   "metadata": {},
   "outputs": [],
   "source": []
  },
  {
   "cell_type": "code",
   "execution_count": null,
   "metadata": {},
   "outputs": [],
   "source": [
    "options = readdir(\"results/saved_params/\")\n",
    "file = request(message(\"LVP\"), RadioMenu(options))\n",
    "params, season = load_saved_params(dt, tt, nrec, nt, fsaven, options[file])"
   ]
  }
 ],
 "metadata": {
  "kernelspec": {
   "display_name": "Julia 1.8.5",
   "language": "julia",
   "name": "julia-1.8"
  },
  "language_info": {
   "file_extension": ".jl",
   "mimetype": "application/julia",
   "name": "julia",
   "version": "1.8.5"
  },
  "orig_nbformat": 4
 },
 "nbformat": 4,
 "nbformat_minor": 2
}
